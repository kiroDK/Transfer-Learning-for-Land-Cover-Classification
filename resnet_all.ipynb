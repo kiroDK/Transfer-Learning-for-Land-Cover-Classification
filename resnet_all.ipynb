{
 "cells": [
  {
   "cell_type": "markdown",
   "id": "425a6893",
   "metadata": {},
   "source": [
    "### ResNet50 Model trained with 4 different Datasets"
   ]
  },
  {
   "cell_type": "code",
   "execution_count": 86,
   "id": "45bb0935",
   "metadata": {},
   "outputs": [],
   "source": [
    "import os\n",
    "import numpy as np\n",
    "from keras.preprocessing.image import ImageDataGenerator\n",
    "from keras.applications.resnet50 import ResNet50, preprocess_input\n",
    "from keras.models import Sequential\n",
    "from keras.layers import Dense, Flatten, Dropout\n",
    "from keras.optimizers import Adam\n",
    "from keras.callbacks import ReduceLROnPlateau"
   ]
  },
  {
   "cell_type": "code",
   "execution_count": 87,
   "id": "6faa1763",
   "metadata": {},
   "outputs": [],
   "source": [
    "# Define the model for transfer learning\n",
    "Model = ResNet50"
   ]
  },
  {
   "cell_type": "code",
   "execution_count": 88,
   "id": "0ad247ee",
   "metadata": {},
   "outputs": [],
   "source": [
    "# Define the directories containing the Eurosat datasets\n",
    "data_dirs = {\n",
    "    90: r\"D:\\MCA 3rd SEM\\Small Industrial Project\\DATASET_COMPARE\\90\",\n",
    "    80: r\"D:\\MCA 3rd SEM\\Small Industrial Project\\DATASET_COMPARE\\80\",\n",
    "    70: r\"D:\\MCA 3rd SEM\\Small Industrial Project\\DATASET_COMPARE\\70\",\n",
    "    60: r\"D:\\MCA 3rd SEM\\Small Industrial Project\\DATASET_COMPARE\\60\"\n",
    "}"
   ]
  },
  {
   "cell_type": "code",
   "execution_count": 89,
   "id": "6ff99769",
   "metadata": {},
   "outputs": [],
   "source": [
    "# Define the input shape for the model\n",
    "input_shape = (64, 64, 3)"
   ]
  },
  {
   "cell_type": "code",
   "execution_count": 90,
   "id": "bf2325d8",
   "metadata": {},
   "outputs": [],
   "source": [
    "# Use ReduceLROnPlateau callback\n",
    "lr_reduction = ReduceLROnPlateau(monitor='val_loss', \n",
    "                                 patience=3, \n",
    "                                 verbose=1, \n",
    "                                 factor=0.5, \n",
    "                                 min_lr=0.00001)"
   ]
  },
  {
   "cell_type": "code",
   "execution_count": 91,
   "id": "beefea73",
   "metadata": {},
   "outputs": [],
   "source": [
    "# Create an image data generator with more augmentations and validation split\n",
    "datagen = ImageDataGenerator(\n",
    "    preprocessing_function=preprocess_input,  # use preprocess_input from resnet50\n",
    "    rotation_range=20,\n",
    "    width_shift_range=0.2,\n",
    "    height_shift_range=0.2,\n",
    "    horizontal_flip=True,\n",
    "    validation_split=0.2  # add this line for validation split\n",
    ")"
   ]
  },
  {
   "cell_type": "code",
   "execution_count": 92,
   "id": "597c56e3",
   "metadata": {},
   "outputs": [],
   "source": [
    "# Initialize a dictionary to store the accuracy of each model at each stage\n",
    "accuracy = {}"
   ]
  },
  {
   "cell_type": "code",
   "execution_count": 93,
   "id": "d10031e8",
   "metadata": {},
   "outputs": [
    {
     "name": "stdout",
     "output_type": "stream",
     "text": [
      "Training for stage 90\n",
      "Found 720 images belonging to 10 classes.\n",
      "Found 180 images belonging to 10 classes.\n",
      "Epoch 1/10\n",
      "23/23 [==============================] - 83s 3s/step - loss: 3.1777 - accuracy: 0.4819 - val_loss: 53217.1445 - val_accuracy: 0.1000 - lr: 0.0010\n",
      "Epoch 2/10\n",
      "23/23 [==============================] - 56s 2s/step - loss: 2.7999 - accuracy: 0.5556 - val_loss: 2127139.5000 - val_accuracy: 0.1000 - lr: 0.0010\n",
      "Epoch 3/10\n",
      "23/23 [==============================] - 57s 2s/step - loss: 2.6720 - accuracy: 0.5931 - val_loss: 16244.7764 - val_accuracy: 0.2222 - lr: 0.0010\n",
      "Epoch 4/10\n",
      "23/23 [==============================] - 56s 2s/step - loss: 1.8997 - accuracy: 0.6792 - val_loss: 84024.2266 - val_accuracy: 0.3556 - lr: 0.0010\n",
      "Epoch 5/10\n",
      "23/23 [==============================] - 56s 2s/step - loss: 1.1812 - accuracy: 0.7083 - val_loss: 2126.4727 - val_accuracy: 0.4389 - lr: 0.0010\n",
      "Epoch 6/10\n",
      "23/23 [==============================] - 56s 2s/step - loss: 1.2103 - accuracy: 0.7222 - val_loss: 3264.0068 - val_accuracy: 0.3167 - lr: 0.0010\n",
      "Epoch 7/10\n",
      "23/23 [==============================] - 56s 2s/step - loss: 1.3629 - accuracy: 0.7278 - val_loss: 567.8767 - val_accuracy: 0.4833 - lr: 0.0010\n",
      "Epoch 8/10\n",
      "23/23 [==============================] - 56s 2s/step - loss: 1.7254 - accuracy: 0.7347 - val_loss: 9.4517 - val_accuracy: 0.5000 - lr: 0.0010\n",
      "Epoch 9/10\n",
      "23/23 [==============================] - 56s 2s/step - loss: 1.4429 - accuracy: 0.7681 - val_loss: 349.3665 - val_accuracy: 0.4944 - lr: 0.0010\n",
      "Epoch 10/10\n",
      "23/23 [==============================] - 55s 2s/step - loss: 2.1915 - accuracy: 0.8000 - val_loss: 434.8741 - val_accuracy: 0.5500 - lr: 0.0010\n",
      "Training for stage 80\n",
      "Found 640 images belonging to 10 classes.\n",
      "Found 160 images belonging to 10 classes.\n",
      "Epoch 1/10\n",
      "20/20 [==============================] - 75s 3s/step - loss: 2.2888 - accuracy: 0.4875 - val_loss: 36982.9883 - val_accuracy: 0.1000 - lr: 0.0010\n",
      "Epoch 2/10\n",
      "20/20 [==============================] - 54s 3s/step - loss: 2.1453 - accuracy: 0.6531 - val_loss: 663041.3750 - val_accuracy: 0.1000 - lr: 0.0010\n",
      "Epoch 3/10\n",
      "20/20 [==============================] - 53s 3s/step - loss: 2.0821 - accuracy: 0.7156 - val_loss: 15390323.0000 - val_accuracy: 0.1000 - lr: 0.0010\n",
      "Epoch 4/10\n",
      "20/20 [==============================] - ETA: 0s - loss: 2.1450 - accuracy: 0.7203\n",
      "Epoch 4: ReduceLROnPlateau reducing learning rate to 0.0005000000237487257.\n",
      "20/20 [==============================] - 53s 3s/step - loss: 2.1450 - accuracy: 0.7203 - val_loss: 605657.6875 - val_accuracy: 0.1000 - lr: 0.0010\n",
      "Epoch 5/10\n",
      "20/20 [==============================] - 52s 3s/step - loss: 1.9914 - accuracy: 0.7750 - val_loss: 16294.0078 - val_accuracy: 0.1063 - lr: 5.0000e-04\n",
      "Epoch 6/10\n",
      "20/20 [==============================] - 50s 2s/step - loss: 1.4982 - accuracy: 0.7906 - val_loss: 5090.4448 - val_accuracy: 0.1688 - lr: 5.0000e-04\n",
      "Epoch 7/10\n",
      "20/20 [==============================] - 50s 2s/step - loss: 1.3702 - accuracy: 0.7516 - val_loss: 6715.7568 - val_accuracy: 0.1875 - lr: 5.0000e-04\n",
      "Epoch 8/10\n",
      "20/20 [==============================] - 52s 3s/step - loss: 0.8046 - accuracy: 0.8219 - val_loss: 1624.7058 - val_accuracy: 0.2937 - lr: 5.0000e-04\n",
      "Epoch 9/10\n",
      "20/20 [==============================] - 53s 3s/step - loss: 0.8765 - accuracy: 0.8453 - val_loss: 2386.2354 - val_accuracy: 0.3812 - lr: 5.0000e-04\n",
      "Epoch 10/10\n",
      "20/20 [==============================] - 50s 3s/step - loss: 0.7330 - accuracy: 0.8391 - val_loss: 1140.8159 - val_accuracy: 0.5375 - lr: 5.0000e-04\n",
      "Training for stage 70\n",
      "Found 560 images belonging to 10 classes.\n",
      "Found 140 images belonging to 10 classes.\n",
      "Epoch 1/10\n",
      "18/18 [==============================] - 81s 3s/step - loss: 2.2144 - accuracy: 0.5125 - val_loss: 6185.0698 - val_accuracy: 0.1000 - lr: 0.0010\n",
      "Epoch 2/10\n",
      "18/18 [==============================] - 54s 3s/step - loss: 2.2844 - accuracy: 0.6500 - val_loss: 575000.3750 - val_accuracy: 0.1071 - lr: 0.0010\n",
      "Epoch 3/10\n",
      "18/18 [==============================] - 53s 3s/step - loss: 1.8101 - accuracy: 0.6946 - val_loss: 1118893.8750 - val_accuracy: 0.1000 - lr: 0.0010\n",
      "Epoch 4/10\n",
      "18/18 [==============================] - ETA: 0s - loss: 1.9315 - accuracy: 0.7071\n",
      "Epoch 4: ReduceLROnPlateau reducing learning rate to 0.0005000000237487257.\n",
      "18/18 [==============================] - 53s 3s/step - loss: 1.9315 - accuracy: 0.7071 - val_loss: 132758.5312 - val_accuracy: 0.1000 - lr: 0.0010\n",
      "Epoch 5/10\n",
      "18/18 [==============================] - 53s 3s/step - loss: 1.1874 - accuracy: 0.7893 - val_loss: 15908.5576 - val_accuracy: 0.1000 - lr: 5.0000e-04\n",
      "Epoch 6/10\n",
      "18/18 [==============================] - 53s 3s/step - loss: 0.5750 - accuracy: 0.8179 - val_loss: 2975.6060 - val_accuracy: 0.2286 - lr: 5.0000e-04\n",
      "Epoch 7/10\n",
      "18/18 [==============================] - 53s 3s/step - loss: 0.9624 - accuracy: 0.8179 - val_loss: 2816.8101 - val_accuracy: 0.5071 - lr: 5.0000e-04\n",
      "Epoch 8/10\n",
      "18/18 [==============================] - 53s 3s/step - loss: 0.8978 - accuracy: 0.8196 - val_loss: 146.0466 - val_accuracy: 0.6357 - lr: 5.0000e-04\n",
      "Epoch 9/10\n",
      "18/18 [==============================] - 53s 3s/step - loss: 1.1016 - accuracy: 0.8036 - val_loss: 661.8200 - val_accuracy: 0.6286 - lr: 5.0000e-04\n",
      "Epoch 10/10\n",
      "18/18 [==============================] - 54s 3s/step - loss: 1.4400 - accuracy: 0.8000 - val_loss: 263.9778 - val_accuracy: 0.6643 - lr: 5.0000e-04\n",
      "Training for stage 60\n",
      "Found 480 images belonging to 10 classes.\n",
      "Found 120 images belonging to 10 classes.\n",
      "Epoch 1/10\n",
      "15/15 [==============================] - 67s 3s/step - loss: 2.8800 - accuracy: 0.4167 - val_loss: 389.2792 - val_accuracy: 0.1333 - lr: 0.0010\n",
      "Epoch 2/10\n",
      "15/15 [==============================] - 44s 3s/step - loss: 2.6487 - accuracy: 0.5500 - val_loss: 23854.7246 - val_accuracy: 0.1000 - lr: 0.0010\n",
      "Epoch 3/10\n",
      "15/15 [==============================] - 44s 3s/step - loss: 2.8878 - accuracy: 0.6000 - val_loss: 837422.7500 - val_accuracy: 0.1000 - lr: 0.0010\n",
      "Epoch 4/10\n",
      "15/15 [==============================] - ETA: 0s - loss: 1.8495 - accuracy: 0.6729\n",
      "Epoch 4: ReduceLROnPlateau reducing learning rate to 0.0005000000237487257.\n",
      "15/15 [==============================] - 44s 3s/step - loss: 1.8495 - accuracy: 0.6729 - val_loss: 25041.6191 - val_accuracy: 0.1000 - lr: 0.0010\n",
      "Epoch 5/10\n",
      "15/15 [==============================] - 44s 3s/step - loss: 1.8462 - accuracy: 0.7333 - val_loss: 5.0144 - val_accuracy: 0.4083 - lr: 5.0000e-04\n",
      "Epoch 6/10\n",
      "15/15 [==============================] - 46s 3s/step - loss: 1.9759 - accuracy: 0.7188 - val_loss: 998.0303 - val_accuracy: 0.3583 - lr: 5.0000e-04\n",
      "Epoch 7/10\n",
      "15/15 [==============================] - 43s 3s/step - loss: 1.3422 - accuracy: 0.7646 - val_loss: 136.8830 - val_accuracy: 0.4500 - lr: 5.0000e-04\n",
      "Epoch 8/10\n",
      "15/15 [==============================] - ETA: 0s - loss: 0.7337 - accuracy: 0.7875\n",
      "Epoch 8: ReduceLROnPlateau reducing learning rate to 0.0002500000118743628.\n",
      "15/15 [==============================] - 37s 2s/step - loss: 0.7337 - accuracy: 0.7875 - val_loss: 66.4474 - val_accuracy: 0.5083 - lr: 5.0000e-04\n",
      "Epoch 9/10\n",
      "15/15 [==============================] - 33s 2s/step - loss: 1.1495 - accuracy: 0.8104 - val_loss: 140.1478 - val_accuracy: 0.5083 - lr: 2.5000e-04\n",
      "Epoch 10/10\n",
      "15/15 [==============================] - 30s 2s/step - loss: 0.6323 - accuracy: 0.8479 - val_loss: 46.2236 - val_accuracy: 0.6000 - lr: 2.5000e-04\n",
      "Accuracy for each stage: {90: 0.550000011920929, 80: 0.5375000238418579, 70: 0.6642857193946838, 60: 0.6000000238418579}\n"
     ]
    }
   ],
   "source": [
    "# Loop over each dataset directory for training\n",
    "for stage, data_dir in data_dirs.items():\n",
    "    print(f\"Training for stage {stage}\")\n",
    "    \n",
    "    # Create a train generator with only `stage` images per class\n",
    "    train_generator = datagen.flow_from_directory(\n",
    "        data_dir, \n",
    "        target_size=(64,64), \n",
    "        batch_size=32, \n",
    "        subset='training'  # specify this as 'training'\n",
    "    )\n",
    "\n",
    "    # Create a validation generator\n",
    "    validation_generator = datagen.flow_from_directory(\n",
    "        data_dir, \n",
    "        target_size=(64,64), \n",
    "        batch_size=32, \n",
    "        subset='validation'  # specify this as 'validation'\n",
    "    )\n",
    "\n",
    "    # Create a new instance of the model for transfer learning\n",
    "    base_model = Model(weights='imagenet', include_top=False, input_shape=input_shape)\n",
    "    model = Sequential()\n",
    "    model.add(base_model)\n",
    "    model.add(Flatten())\n",
    "    model.add(Dropout(0.5)) # Add dropout layer to reduce overfitting\n",
    "\n",
    "    # The number of classes is automatically inferred from the subdirectories\n",
    "    model.add(Dense(train_generator.num_classes, activation='softmax'))\n",
    "\n",
    "    # Compile the model\n",
    "    model.compile(optimizer=Adam(), loss='categorical_crossentropy', metrics=['accuracy'])\n",
    "\n",
    "    # Train the model with validation data and callbacks\n",
    "    history = model.fit(\n",
    "        train_generator, \n",
    "        epochs=10, \n",
    "        validation_data=validation_generator,  # use validation_data instead of validation_split\n",
    "        callbacks=[lr_reduction]\n",
    "    )\n",
    "\n",
    "    # Store the accuracy of the model at this stage\n",
    "    accuracy[stage] = history.history['val_accuracy'][-1]\n",
    "\n",
    "print(\"Accuracy for each stage:\", accuracy)"
   ]
  },
  {
   "cell_type": "code",
   "execution_count": 94,
   "id": "a61da34c",
   "metadata": {},
   "outputs": [
    {
     "name": "stdout",
     "output_type": "stream",
     "text": [
      "Accuracy for each stage: {90: 0.550000011920929, 80: 0.5375000238418579, 70: 0.6642857193946838, 60: 0.6000000238418579}\n"
     ]
    },
    {
     "data": {
      "image/png": "[encoded data removed]",
      "text/plain": [
       "<Figure size 640x480 with 1 Axes>"
      ]
     },
     "metadata": {},
     "output_type": "display_data"
    }
   ],
   "source": [
    "import matplotlib.pyplot as plt\n",
    "\n",
    "# After training the model and storing the accuracy\n",
    "print(\"Accuracy for each stage:\", accuracy)\n",
    "\n",
    "# Create a list of stages and their corresponding accuracies\n",
    "stages = list(accuracy.keys())\n",
    "accuracies = list(accuracy.values())\n",
    "\n",
    "# Create a bar plot\n",
    "plt.bar(stages, accuracies)\n",
    "plt.xlabel('Stage')\n",
    "plt.ylabel('Accuracy')\n",
    "plt.title('Accuracy for each stage')\n",
    "plt.show()"
   ]
  },
  {
   "cell_type": "code",
   "execution_count": 103,
   "id": "2c89d3ec",
   "metadata": {},
   "outputs": [
    {
     "name": "stdout",
     "output_type": "stream",
     "text": [
      "1/1 [==============================] - 0s 59ms/step\n",
      "The predicted class is: AnnualCrop\n"
     ]
    }
   ],
   "source": [
    "from keras.applications.resnet50 import preprocess_input\n",
    "from keras.preprocessing.image import load_img, img_to_array\n",
    "\n",
    "\n",
    "# Define the path to your image for testing\n",
    "img_path = r\"D:\\MCA 3rd SEM\\Small Industrial Project\\DATASET_COMPARE\\90\\AnnualCrop\\AnnualCrop_4.jpg\"\n",
    "# img_path = r'D:\\MCA 3rd SEM\\Small Industrial Project\\DATASET_COMPARE\\90\\HerbaceousVegetation\\HerbaceousVegetation_1.jpg'\n",
    "# img_path = r\"D:\\MCA 3rd SEM\\Small Industrial Project\\DATASET_COMPARE\\90\\Industrial\\Industrial_1.jpg\"\n",
    "# img_path = r\"D:\\MCA 3rd SEM\\Small Industrial Project\\DATASET_COMPARE\\90\\SeaLake\\SeaLake_1.jpg\"\n",
    "\n",
    "# Load and preprocess the image\n",
    "img = load_img(img_path, target_size=input_shape[:2])\n",
    "x = img_to_array(img)\n",
    "x = np.expand_dims(x, axis=0)\n",
    "x = preprocess_input(x)\n",
    "\n",
    "# Use the trained model to make a prediction\n",
    "preds = model.predict(x)\n",
    "\n",
    "# Get the class labels from the train generator\n",
    "classes = list(train_generator.class_indices.keys())\n",
    "\n",
    "# Decode the prediction\n",
    "predicted_class = np.argmax(preds[0])\n",
    "\n",
    "print(f'The predicted class is: {classes[predicted_class]}')"
   ]
  },
  {
   "cell_type": "code",
   "execution_count": 96,
   "id": "b3d6a4b9",
   "metadata": {},
   "outputs": [],
   "source": [
    "# Define the path to your directory for testing\n",
    "dir_path = r\"D:\\MCA 3rd SEM\\Small Industrial Project\\TEST\""
   ]
  },
  {
   "cell_type": "code",
   "execution_count": 97,
   "id": "28e7b371",
   "metadata": {},
   "outputs": [
    {
     "name": "stdout",
     "output_type": "stream",
     "text": [
      "1/1 [==============================] - 0s 62ms/step\n",
      "The predicted class for AnnualCrop_1.jpg is: AnnualCrop\n",
      "1/1 [==============================] - 0s 66ms/step\n",
      "The predicted class for Forest_1.jpg is: AnnualCrop\n",
      "1/1 [==============================] - 0s 61ms/step\n",
      "The predicted class for HerbaceousVegetation_1.jpg is: AnnualCrop\n",
      "1/1 [==============================] - 0s 59ms/step\n",
      "The predicted class for Highway_1.jpg is: Highway\n",
      "1/1 [==============================] - 0s 61ms/step\n",
      "The predicted class for Industrial_1.jpg is: Industrial\n",
      "1/1 [==============================] - 0s 63ms/step\n",
      "The predicted class for Pasture_1.jpg is: Pasture\n",
      "1/1 [==============================] - 0s 61ms/step\n",
      "The predicted class for PermanentCrop_1.jpg is: PermanentCrop\n",
      "1/1 [==============================] - 0s 63ms/step\n",
      "The predicted class for Residential_1.jpg is: Residential\n",
      "1/1 [==============================] - 0s 60ms/step\n",
      "The predicted class for River_1.jpg is: River\n",
      "1/1 [==============================] - 0s 66ms/step\n",
      "The predicted class for SeaLake_1.jpg is: AnnualCrop\n"
     ]
    }
   ],
   "source": [
    "# Get a list of all image files in the directory\n",
    "img_files = [f for f in os.listdir(dir_path) if f.endswith('.jpg')]\n",
    "\n",
    "# Loop over each image file\n",
    "for img_file in img_files:\n",
    "    # Load and preprocess the image\n",
    "    img = load_img(os.path.join(dir_path, img_file), target_size=input_shape[:2])\n",
    "    x = img_to_array(img)\n",
    "    x = np.expand_dims(x, axis=0)\n",
    "    x = preprocess_input(x)\n",
    "\n",
    "    # Use the trained model to make a prediction\n",
    "    preds = model.predict(x)\n",
    "\n",
    "    # Decode the prediction\n",
    "    predicted_class = np.argmax(preds[0])\n",
    "\n",
    "    print(f'The predicted class for {img_file} is: {classes[predicted_class]}')"
   ]
  },
  {
   "cell_type": "code",
   "execution_count": null,
   "id": "0527972a",
   "metadata": {},
   "outputs": [],
   "source": []
  },
  {
   "cell_type": "code",
   "execution_count": null,
   "id": "da55d08e",
   "metadata": {},
   "outputs": [],
   "source": []
  }
 ],
 "metadata": {
  "kernelspec": {
   "display_name": "Python 3 (ipykernel)",
   "language": "python",
   "name": "python3"
  },
  "language_info": {
   "codemirror_mode": {
    "name": "ipython",
    "version": 3
   },
   "file_extension": ".py",
   "mimetype": "text/x-python",
   "name": "python",
   "nbconvert_exporter": "python",
   "pygments_lexer": "ipython3",
   "version": "3.9.13"
  }
 },
 "nbformat": 4,
 "nbformat_minor": 5
}
