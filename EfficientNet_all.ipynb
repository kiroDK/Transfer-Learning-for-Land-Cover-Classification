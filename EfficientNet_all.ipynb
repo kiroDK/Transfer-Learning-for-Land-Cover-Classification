{
 "cells": [
  {
   "cell_type": "markdown",
   "id": "234ff9e2",
   "metadata": {},
   "source": [
    "### EfficientNet Model trained with 4 different datasets"
   ]
  },
  {
   "cell_type": "code",
   "execution_count": 40,
   "id": "c4344375",
   "metadata": {},
   "outputs": [],
   "source": [
    "import os\n",
    "import numpy as np\n",
    "from keras.preprocessing.image import ImageDataGenerator\n",
    "from keras.applications.efficientnet import EfficientNetB0, preprocess_input\n",
    "from keras.models import Sequential\n",
    "from keras.layers import Dense, Flatten, Dropout\n",
    "from keras.optimizers import Adam\n",
    "from keras.callbacks import ReduceLROnPlateau"
   ]
  },
  {
   "cell_type": "code",
   "execution_count": 41,
   "id": "87efabc7",
   "metadata": {},
   "outputs": [],
   "source": [
    "# Define the model for transfer learning\n",
    "Model = EfficientNetB0"
   ]
  },
  {
   "cell_type": "code",
   "execution_count": 42,
   "id": "1977d7b6",
   "metadata": {},
   "outputs": [],
   "source": [
    "# Define the directories containing the Eurosat datasets\n",
    "data_dirs = {\n",
    "    90: r\"D:\\MCA 3rd SEM\\Small Industrial Project\\DATASET_COMPARE\\90\",\n",
    "    80: r\"D:\\MCA 3rd SEM\\Small Industrial Project\\DATASET_COMPARE\\80\",\n",
    "    70: r\"D:\\MCA 3rd SEM\\Small Industrial Project\\DATASET_COMPARE\\70\",\n",
    "    60: r\"D:\\MCA 3rd SEM\\Small Industrial Project\\DATASET_COMPARE\\60\"\n",
    "}"
   ]
  },
  {
   "cell_type": "code",
   "execution_count": 43,
   "id": "d551a8d5",
   "metadata": {},
   "outputs": [],
   "source": [
    "# Define the input shape for the model\n",
    "input_shape = (64, 64, 3)"
   ]
  },
  {
   "cell_type": "code",
   "execution_count": 44,
   "id": "74d52b01",
   "metadata": {},
   "outputs": [],
   "source": [
    "# Use ReduceLROnPlateau callback\n",
    "lr_reduction = ReduceLROnPlateau(monitor='val_loss', \n",
    "                                 patience=3, \n",
    "                                 verbose=1, \n",
    "                                 factor=0.5, \n",
    "                                 min_lr=0.00001)"
   ]
  },
  {
   "cell_type": "code",
   "execution_count": 45,
   "id": "7aec4c25",
   "metadata": {},
   "outputs": [],
   "source": [
    "# Create an image data generator with more augmentations and validation split\n",
    "datagen = ImageDataGenerator(\n",
    "    preprocessing_function=preprocess_input,  # use preprocess_input from vgg16\n",
    "    rotation_range=20,\n",
    "    width_shift_range=0.2,\n",
    "    height_shift_range=0.2,\n",
    "    horizontal_flip=True,\n",
    "    validation_split=0.2  # add this line for validation split\n",
    ")"
   ]
  },
  {
   "cell_type": "code",
   "execution_count": 46,
   "id": "6f814987",
   "metadata": {},
   "outputs": [],
   "source": [
    "# Initialize a dictionary to store the accuracy of each model at each stage\n",
    "accuracy = {}"
   ]
  },
  {
   "cell_type": "code",
   "execution_count": 47,
   "id": "9cdc3a12",
   "metadata": {},
   "outputs": [
    {
     "name": "stdout",
     "output_type": "stream",
     "text": [
      "Training for stage 90\n",
      "Found 720 images belonging to 10 classes.\n",
      "Found 180 images belonging to 10 classes.\n",
      "Epoch 1/10\n",
      "23/23 [==============================] - 36s 665ms/step - loss: 1.8563 - accuracy: 0.4222 - val_loss: 1.9440 - val_accuracy: 0.3944 - lr: 0.0010\n",
      "Epoch 2/10\n",
      "23/23 [==============================] - 14s 580ms/step - loss: 0.9398 - accuracy: 0.7125 - val_loss: 1.3060 - val_accuracy: 0.5611 - lr: 0.0010\n",
      "Epoch 3/10\n",
      "23/23 [==============================] - 11s 482ms/step - loss: 0.6643 - accuracy: 0.7875 - val_loss: 1.2338 - val_accuracy: 0.6611 - lr: 0.0010\n",
      "Epoch 4/10\n",
      "23/23 [==============================] - 11s 480ms/step - loss: 0.5178 - accuracy: 0.8431 - val_loss: 1.1951 - val_accuracy: 0.6556 - lr: 0.0010\n",
      "Epoch 5/10\n",
      "23/23 [==============================] - 11s 490ms/step - loss: 0.5316 - accuracy: 0.8667 - val_loss: 1.1722 - val_accuracy: 0.6833 - lr: 0.0010\n",
      "Epoch 6/10\n",
      "23/23 [==============================] - 11s 478ms/step - loss: 0.3858 - accuracy: 0.8847 - val_loss: 1.0012 - val_accuracy: 0.8056 - lr: 0.0010\n",
      "Epoch 7/10\n",
      "23/23 [==============================] - 12s 503ms/step - loss: 0.3163 - accuracy: 0.9028 - val_loss: 2.0874 - val_accuracy: 0.7889 - lr: 0.0010\n",
      "Epoch 8/10\n",
      "23/23 [==============================] - 11s 478ms/step - loss: 0.3688 - accuracy: 0.8917 - val_loss: 0.6632 - val_accuracy: 0.8222 - lr: 0.0010\n",
      "Epoch 9/10\n",
      "23/23 [==============================] - 11s 489ms/step - loss: 0.3585 - accuracy: 0.9014 - val_loss: 0.8004 - val_accuracy: 0.8222 - lr: 0.0010\n",
      "Epoch 10/10\n",
      "23/23 [==============================] - 11s 492ms/step - loss: 0.3830 - accuracy: 0.8958 - val_loss: 0.6877 - val_accuracy: 0.8222 - lr: 0.0010\n",
      "Training for stage 80\n",
      "Found 640 images belonging to 10 classes.\n",
      "Found 160 images belonging to 10 classes.\n",
      "Epoch 1/10\n",
      "20/20 [==============================] - 30s 546ms/step - loss: 1.9035 - accuracy: 0.4375 - val_loss: 1.7231 - val_accuracy: 0.3562 - lr: 0.0010\n",
      "Epoch 2/10\n",
      "20/20 [==============================] - 12s 610ms/step - loss: 0.9139 - accuracy: 0.7359 - val_loss: 1.2988 - val_accuracy: 0.5437 - lr: 0.0010\n",
      "Epoch 3/10\n",
      "20/20 [==============================] - 13s 640ms/step - loss: 0.6883 - accuracy: 0.7984 - val_loss: 1.0038 - val_accuracy: 0.7437 - lr: 0.0010\n",
      "Epoch 4/10\n",
      "20/20 [==============================] - 13s 635ms/step - loss: 0.6011 - accuracy: 0.8203 - val_loss: 0.6918 - val_accuracy: 0.7812 - lr: 0.0010\n",
      "Epoch 5/10\n",
      "20/20 [==============================] - 13s 632ms/step - loss: 0.4704 - accuracy: 0.8703 - val_loss: 0.8573 - val_accuracy: 0.7437 - lr: 0.0010\n",
      "Epoch 6/10\n",
      "20/20 [==============================] - 13s 629ms/step - loss: 0.5255 - accuracy: 0.8594 - val_loss: 0.6973 - val_accuracy: 0.8500 - lr: 0.0010\n",
      "Epoch 7/10\n",
      "20/20 [==============================] - ETA: 0s - loss: 0.4510 - accuracy: 0.8750\n",
      "Epoch 7: ReduceLROnPlateau reducing learning rate to 0.0005000000237487257.\n",
      "20/20 [==============================] - 12s 569ms/step - loss: 0.4510 - accuracy: 0.8750 - val_loss: 0.8826 - val_accuracy: 0.8188 - lr: 0.0010\n",
      "Epoch 8/10\n",
      "20/20 [==============================] - 9s 463ms/step - loss: 0.3702 - accuracy: 0.8969 - val_loss: 0.4924 - val_accuracy: 0.8562 - lr: 5.0000e-04\n",
      "Epoch 9/10\n",
      "20/20 [==============================] - 10s 494ms/step - loss: 0.2504 - accuracy: 0.9141 - val_loss: 0.4561 - val_accuracy: 0.9062 - lr: 5.0000e-04\n",
      "Epoch 10/10\n",
      "20/20 [==============================] - 10s 515ms/step - loss: 0.1916 - accuracy: 0.9344 - val_loss: 0.3208 - val_accuracy: 0.9187 - lr: 5.0000e-04\n",
      "Training for stage 70\n",
      "Found 560 images belonging to 10 classes.\n",
      "Found 140 images belonging to 10 classes.\n",
      "Epoch 1/10\n",
      "18/18 [==============================] - 29s 643ms/step - loss: 2.0342 - accuracy: 0.3786 - val_loss: 1.5326 - val_accuracy: 0.4714 - lr: 0.0010\n",
      "Epoch 2/10\n",
      "18/18 [==============================] - 11s 588ms/step - loss: 0.9259 - accuracy: 0.7143 - val_loss: 1.1362 - val_accuracy: 0.6357 - lr: 0.0010\n",
      "Epoch 3/10\n",
      "18/18 [==============================] - 11s 608ms/step - loss: 0.5195 - accuracy: 0.8232 - val_loss: 0.7309 - val_accuracy: 0.7643 - lr: 0.0010\n",
      "Epoch 4/10\n",
      "18/18 [==============================] - 11s 630ms/step - loss: 0.6232 - accuracy: 0.8054 - val_loss: 0.8688 - val_accuracy: 0.7571 - lr: 0.0010\n",
      "Epoch 5/10\n",
      "18/18 [==============================] - 11s 615ms/step - loss: 0.3951 - accuracy: 0.8554 - val_loss: 0.5933 - val_accuracy: 0.8500 - lr: 0.0010\n",
      "Epoch 6/10\n",
      "18/18 [==============================] - 11s 596ms/step - loss: 0.3876 - accuracy: 0.8893 - val_loss: 0.7538 - val_accuracy: 0.7714 - lr: 0.0010\n",
      "Epoch 7/10\n",
      "18/18 [==============================] - 13s 701ms/step - loss: 0.4476 - accuracy: 0.8732 - val_loss: 0.9981 - val_accuracy: 0.7357 - lr: 0.0010\n",
      "Epoch 8/10\n",
      "18/18 [==============================] - ETA: 0s - loss: 0.4096 - accuracy: 0.8964\n",
      "Epoch 8: ReduceLROnPlateau reducing learning rate to 0.0005000000237487257.\n",
      "18/18 [==============================] - 15s 820ms/step - loss: 0.4096 - accuracy: 0.8964 - val_loss: 2.7942 - val_accuracy: 0.6643 - lr: 0.0010\n",
      "Epoch 9/10\n",
      "18/18 [==============================] - 14s 791ms/step - loss: 0.3515 - accuracy: 0.9089 - val_loss: 3.0263 - val_accuracy: 0.7000 - lr: 5.0000e-04\n",
      "Epoch 10/10\n",
      "18/18 [==============================] - 14s 788ms/step - loss: 0.2850 - accuracy: 0.9107 - val_loss: 2.6374 - val_accuracy: 0.7143 - lr: 5.0000e-04\n",
      "Training for stage 60\n",
      "Found 480 images belonging to 10 classes.\n",
      "Found 120 images belonging to 10 classes.\n",
      "Epoch 1/10\n",
      "15/15 [==============================] - 28s 690ms/step - loss: 2.0659 - accuracy: 0.3688 - val_loss: 1.5639 - val_accuracy: 0.4750 - lr: 0.0010\n",
      "Epoch 2/10\n",
      "15/15 [==============================] - 9s 601ms/step - loss: 0.8343 - accuracy: 0.7250 - val_loss: 1.1126 - val_accuracy: 0.6083 - lr: 0.0010\n",
      "Epoch 3/10\n",
      "15/15 [==============================] - 9s 626ms/step - loss: 0.7132 - accuracy: 0.8062 - val_loss: 0.8107 - val_accuracy: 0.7167 - lr: 0.0010\n",
      "Epoch 4/10\n",
      "15/15 [==============================] - 10s 636ms/step - loss: 0.5703 - accuracy: 0.8125 - val_loss: 0.7711 - val_accuracy: 0.7250 - lr: 0.0010\n",
      "Epoch 5/10\n",
      "15/15 [==============================] - 10s 637ms/step - loss: 0.4922 - accuracy: 0.8562 - val_loss: 0.9391 - val_accuracy: 0.7167 - lr: 0.0010\n",
      "Epoch 6/10\n",
      "15/15 [==============================] - 10s 654ms/step - loss: 0.4959 - accuracy: 0.8479 - val_loss: 0.6666 - val_accuracy: 0.8083 - lr: 0.0010\n",
      "Epoch 7/10\n",
      "15/15 [==============================] - 10s 639ms/step - loss: 0.4032 - accuracy: 0.8771 - val_loss: 0.9871 - val_accuracy: 0.7417 - lr: 0.0010\n",
      "Epoch 8/10\n",
      "15/15 [==============================] - 10s 661ms/step - loss: 0.2551 - accuracy: 0.9187 - val_loss: 0.8959 - val_accuracy: 0.7500 - lr: 0.0010\n",
      "Epoch 9/10\n",
      "15/15 [==============================] - ETA: 0s - loss: 0.2031 - accuracy: 0.9354\n",
      "Epoch 9: ReduceLROnPlateau reducing learning rate to 0.0005000000237487257.\n",
      "15/15 [==============================] - 10s 659ms/step - loss: 0.2031 - accuracy: 0.9354 - val_loss: 0.6912 - val_accuracy: 0.8333 - lr: 0.0010\n",
      "Epoch 10/10\n",
      "15/15 [==============================] - 11s 720ms/step - loss: 0.3572 - accuracy: 0.9062 - val_loss: 0.6916 - val_accuracy: 0.8167 - lr: 5.0000e-04\n",
      "Accuracy for each stage: {90: 0.8222222328186035, 80: 0.918749988079071, 70: 0.7142857313156128, 60: 0.8166666626930237}\n"
     ]
    }
   ],
   "source": [
    "# Loop over each dataset directory for training\n",
    "for stage, data_dir in data_dirs.items():\n",
    "    print(f\"Training for stage {stage}\")\n",
    "    \n",
    "    # Create a train generator with only `stage` images per class\n",
    "    train_generator = datagen.flow_from_directory(\n",
    "        data_dir, \n",
    "        target_size=(64,64), \n",
    "        batch_size=32, \n",
    "        subset='training'  # specify this as 'training'\n",
    "    )\n",
    "\n",
    "    # Create a validation generator\n",
    "    validation_generator = datagen.flow_from_directory(\n",
    "        data_dir, \n",
    "        target_size=(64,64), \n",
    "        batch_size=32, \n",
    "        subset='validation'  # specify this as 'validation'\n",
    "    )\n",
    "\n",
    "    # Create a new instance of the model for transfer learning\n",
    "    base_model = Model(weights='imagenet', include_top=False, input_shape=input_shape)\n",
    "    model = Sequential()\n",
    "    model.add(base_model)\n",
    "    model.add(Flatten())\n",
    "    model.add(Dropout(0.5)) # Add dropout layer to reduce overfitting\n",
    "\n",
    "    # The number of classes is automatically inferred from the subdirectories\n",
    "    model.add(Dense(train_generator.num_classes, activation='softmax'))\n",
    "\n",
    "    # Compile the model\n",
    "    model.compile(optimizer=Adam(), loss='categorical_crossentropy', metrics=['accuracy'])\n",
    "\n",
    "    # Train the model with validation data and callbacks\n",
    "    history = model.fit(\n",
    "        train_generator, \n",
    "        epochs=10, \n",
    "        validation_data=validation_generator,  # use validation_data instead of validation_split\n",
    "        callbacks=[lr_reduction]\n",
    "    )\n",
    "\n",
    "    # Store the accuracy of the model at this stage\n",
    "    accuracy[stage] = history.history['val_accuracy'][-1]\n",
    "\n",
    "print(\"Accuracy for each stage:\", accuracy)"
   ]
  },
  {
   "cell_type": "code",
   "execution_count": 48,
   "id": "217c9444",
   "metadata": {},
   "outputs": [
    {
     "name": "stdout",
     "output_type": "stream",
     "text": [
      "Accuracy for each stage: {90: 0.8222222328186035, 80: 0.918749988079071, 70: 0.7142857313156128, 60: 0.8166666626930237}\n"
     ]
    },
    {
     "data": {
      "image/png": "[encoded data removed]",
      "text/plain": [
       "<Figure size 640x480 with 1 Axes>"
      ]
     },
     "metadata": {},
     "output_type": "display_data"
    }
   ],
   "source": [
    "import matplotlib.pyplot as plt\n",
    "\n",
    "# After training the model and storing the accuracy\n",
    "print(\"Accuracy for each stage:\", accuracy)\n",
    "\n",
    "# Create a list of stages and their corresponding accuracies\n",
    "stages = list(accuracy.keys())\n",
    "accuracies = list(accuracy.values())\n",
    "\n",
    "# Create a bar plot\n",
    "plt.bar(stages, accuracies)\n",
    "plt.xlabel('Stage')\n",
    "plt.ylabel('Accuracy')\n",
    "plt.title('Accuracy for each stage')\n",
    "plt.show()"
   ]
  },
  {
   "cell_type": "code",
   "execution_count": 52,
   "id": "e7974287",
   "metadata": {},
   "outputs": [
    {
     "name": "stdout",
     "output_type": "stream",
     "text": [
      "1/1 [==============================] - 0s 34ms/step\n",
      "The predicted class is: AnnualCrop\n"
     ]
    }
   ],
   "source": [
    "from keras.applications.resnet50 import preprocess_input\n",
    "from keras.preprocessing.image import load_img, img_to_array\n",
    "\n",
    "\n",
    "# Define the path to your image for testing\n",
    "img_path = r\"D:\\MCA 3rd SEM\\Small Industrial Project\\DATASET_COMPARE\\90\\AnnualCrop\\AnnualCrop_1.jpg\"\n",
    "# img_path = r'D:\\MCA 3rd SEM\\Small Industrial Project\\DATASET_COMPARE\\90\\HerbaceousVegetation\\HerbaceousVegetation_90.jpg'\n",
    "# img_path = r\"D:\\MCA 3rd SEM\\Small Industrial Project\\DATASET_COMPARE\\90\\Industrial\\Industrial_1.jpg\"\n",
    "# img_path = r\"D:\\MCA 3rd SEM\\Small Industrial Project\\DATASET_COMPARE\\90\\SeaLake\\SeaLake_1.jpg\"\n",
    "\n",
    "# Load and preprocess the image\n",
    "img = load_img(img_path, target_size=input_shape[:2])\n",
    "x = img_to_array(img)\n",
    "x = np.expand_dims(x, axis=0)\n",
    "x = preprocess_input(x)\n",
    "\n",
    "# Use the trained model to make a prediction\n",
    "preds = model.predict(x)\n",
    "\n",
    "# Get the class labels from the train generator\n",
    "classes = list(train_generator.class_indices.keys())\n",
    "\n",
    "# Decode the prediction\n",
    "predicted_class = np.argmax(preds[0])\n",
    "\n",
    "print(f'The predicted class is: {classes[predicted_class]}')"
   ]
  },
  {
   "cell_type": "code",
   "execution_count": 49,
   "id": "ff4b38d6",
   "metadata": {},
   "outputs": [],
   "source": [
    "# Define the path to your directory for testing\n",
    "dir_path = r\"D:\\MCA 3rd SEM\\Small Industrial Project\\TEST\""
   ]
  },
  {
   "cell_type": "code",
   "execution_count": 50,
   "id": "c4f0389d",
   "metadata": {},
   "outputs": [
    {
     "name": "stdout",
     "output_type": "stream",
     "text": [
      "1/1 [==============================] - 1s 1s/step\n",
      "The predicted class for AnnualCrop_1.jpg is: PermanentCrop\n",
      "1/1 [==============================] - 0s 35ms/step\n",
      "The predicted class for Forest_1.jpg is: Forest\n",
      "1/1 [==============================] - 0s 39ms/step\n",
      "The predicted class for HerbaceousVegetation_1.jpg is: HerbaceousVegetation\n",
      "1/1 [==============================] - 0s 40ms/step\n",
      "The predicted class for Highway_1.jpg is: Highway\n",
      "1/1 [==============================] - 0s 35ms/step\n",
      "The predicted class for Industrial_1.jpg is: Industrial\n",
      "1/1 [==============================] - 0s 37ms/step\n",
      "The predicted class for Pasture_1.jpg is: Pasture\n",
      "1/1 [==============================] - 0s 35ms/step\n",
      "The predicted class for PermanentCrop_1.jpg is: PermanentCrop\n",
      "1/1 [==============================] - 0s 34ms/step\n",
      "The predicted class for Residential_1.jpg is: Residential\n",
      "1/1 [==============================] - 0s 44ms/step\n",
      "The predicted class for River_1.jpg is: River\n",
      "1/1 [==============================] - 0s 37ms/step\n",
      "The predicted class for SeaLake_1.jpg is: SeaLake\n"
     ]
    }
   ],
   "source": [
    "# Get a list of all image files in the directory\n",
    "img_files = [f for f in os.listdir(dir_path) if f.endswith('.jpg')]\n",
    "\n",
    "# Loop over each image file\n",
    "for img_file in img_files:\n",
    "    # Load and preprocess the image\n",
    "    img = load_img(os.path.join(dir_path, img_file), target_size=input_shape[:2])\n",
    "    x = img_to_array(img)\n",
    "    x = np.expand_dims(x, axis=0)\n",
    "    x = preprocess_input(x)\n",
    "\n",
    "    # Use the trained model to make a prediction\n",
    "    preds = model.predict(x)\n",
    "\n",
    "    # Decode the prediction\n",
    "    predicted_class = np.argmax(preds[0])\n",
    "\n",
    "    print(f'The predicted class for {img_file} is: {classes[predicted_class]}')"
   ]
  },
  {
   "cell_type": "code",
   "execution_count": null,
   "id": "10795ff7",
   "metadata": {},
   "outputs": [],
   "source": []
  }
 ],
 "metadata": {
  "kernelspec": {
   "display_name": "Python 3 (ipykernel)",
   "language": "python",
   "name": "python3"
  },
  "language_info": {
   "codemirror_mode": {
    "name": "ipython",
    "version": 3
   },
   "file_extension": ".py",
   "mimetype": "text/x-python",
   "name": "python",
   "nbconvert_exporter": "python",
   "pygments_lexer": "ipython3",
   "version": "3.9.13"
  }
 },
 "nbformat": 4,
 "nbformat_minor": 5
}
