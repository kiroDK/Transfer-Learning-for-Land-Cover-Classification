{
 "cells": [
  {
   "cell_type": "code",
   "execution_count": 32,
   "id": "8ea7dfa6",
   "metadata": {},
   "outputs": [],
   "source": [
    "import os\n",
    "import numpy as np\n",
    "from keras.preprocessing.image import ImageDataGenerator\n",
    "from keras.applications.efficientnet import EfficientNetB1, preprocess_input\n",
    "from keras.models import Sequential\n",
    "from keras.layers import Dense, Flatten, Dropout\n",
    "from keras.optimizers import Adam\n",
    "from keras.callbacks import ReduceLROnPlateau"
   ]
  },
  {
   "cell_type": "code",
   "execution_count": 33,
   "id": "d0b74931",
   "metadata": {},
   "outputs": [],
   "source": [
    "# Define the model for transfer learning\n",
    "Model = EfficientNetB1"
   ]
  },
  {
   "cell_type": "code",
   "execution_count": 34,
   "id": "e4067d99",
   "metadata": {},
   "outputs": [],
   "source": [
    "# Define the directories containing the Eurosat datasets\n",
    "data_dirs = {\n",
    "    90: r\"D:\\MCA 3rd SEM\\Small Industrial Project\\DATASET_COMPARE\\90\",\n",
    "    80: r\"D:\\MCA 3rd SEM\\Small Industrial Project\\DATASET_COMPARE\\80\",\n",
    "    70: r\"D:\\MCA 3rd SEM\\Small Industrial Project\\DATASET_COMPARE\\70\",\n",
    "    60: r\"D:\\MCA 3rd SEM\\Small Industrial Project\\DATASET_COMPARE\\60\"\n",
    "}"
   ]
  },
  {
   "cell_type": "code",
   "execution_count": 35,
   "id": "355d3717",
   "metadata": {},
   "outputs": [],
   "source": [
    "# Define the input shape for the model\n",
    "input_shape = (64, 64, 3)"
   ]
  },
  {
   "cell_type": "code",
   "execution_count": 36,
   "id": "6645bae6",
   "metadata": {},
   "outputs": [],
   "source": [
    "# Use ReduceLROnPlateau callback\n",
    "lr_reduction = ReduceLROnPlateau(monitor='val_loss', \n",
    "                                 patience=3, \n",
    "                                 verbose=1, \n",
    "                                 factor=0.5, \n",
    "                                 min_lr=0.00001)"
   ]
  },
  {
   "cell_type": "code",
   "execution_count": 37,
   "id": "64a905b0",
   "metadata": {},
   "outputs": [],
   "source": [
    "# Create an image data generator with more augmentations and validation split\n",
    "datagen = ImageDataGenerator(\n",
    "    preprocessing_function=preprocess_input,  # use preprocess_input from inception_v3\n",
    "    rotation_range=20,\n",
    "    width_shift_range=0.2,\n",
    "    height_shift_range=0.2,\n",
    "    horizontal_flip=True,\n",
    "    validation_split=0.2  # add this line for validation split\n",
    ")"
   ]
  },
  {
   "cell_type": "code",
   "execution_count": 38,
   "id": "f42f1414",
   "metadata": {},
   "outputs": [],
   "source": [
    "# Initialize a dictionary to store the accuracy of each model at each stage\n",
    "accuracy = {}"
   ]
  },
  {
   "cell_type": "code",
   "execution_count": 39,
   "id": "5badb3aa",
   "metadata": {},
   "outputs": [
    {
     "name": "stdout",
     "output_type": "stream",
     "text": [
      "Training for stage 90\n",
      "Found 720 images belonging to 10 classes.\n",
      "Found 180 images belonging to 10 classes.\n",
      "Downloading data from https://storage.googleapis.com/keras-applications/efficientnetb1_notop.h5\n",
      "27018416/27018416 [==============================] - 4s 0us/step\n",
      "Epoch 1/10\n",
      "23/23 [==============================] - 67s 1s/step - loss: 2.0404 - accuracy: 0.3972 - val_loss: 1.4794 - val_accuracy: 0.4444 - lr: 0.0010\n",
      "Epoch 2/10\n",
      "23/23 [==============================] - 25s 1s/step - loss: 0.8429 - accuracy: 0.7111 - val_loss: 0.9840 - val_accuracy: 0.7000 - lr: 0.0010\n",
      "Epoch 3/10\n",
      "23/23 [==============================] - 25s 1s/step - loss: 0.7597 - accuracy: 0.7958 - val_loss: 0.8004 - val_accuracy: 0.7556 - lr: 0.0010\n",
      "Epoch 4/10\n",
      "23/23 [==============================] - 25s 1s/step - loss: 0.5913 - accuracy: 0.8306 - val_loss: 1.0633 - val_accuracy: 0.7389 - lr: 0.0010\n",
      "Epoch 5/10\n",
      "23/23 [==============================] - 25s 1s/step - loss: 0.4130 - accuracy: 0.8861 - val_loss: 0.7398 - val_accuracy: 0.7944 - lr: 0.0010\n",
      "Epoch 6/10\n",
      "23/23 [==============================] - 25s 1s/step - loss: 0.6028 - accuracy: 0.8486 - val_loss: 0.9173 - val_accuracy: 0.8389 - lr: 0.0010\n",
      "Epoch 7/10\n",
      "23/23 [==============================] - 25s 1s/step - loss: 0.4789 - accuracy: 0.8639 - val_loss: 0.7285 - val_accuracy: 0.8111 - lr: 0.0010\n",
      "Epoch 8/10\n",
      "23/23 [==============================] - 25s 1s/step - loss: 0.4098 - accuracy: 0.8861 - val_loss: 1.2271 - val_accuracy: 0.8222 - lr: 0.0010\n",
      "Epoch 9/10\n",
      "23/23 [==============================] - 25s 1s/step - loss: 0.4393 - accuracy: 0.8764 - val_loss: 0.6876 - val_accuracy: 0.8444 - lr: 0.0010\n",
      "Epoch 10/10\n",
      "23/23 [==============================] - 25s 1s/step - loss: 0.3537 - accuracy: 0.8958 - val_loss: 1.1388 - val_accuracy: 0.8667 - lr: 0.0010\n",
      "Training for stage 80\n",
      "Found 640 images belonging to 10 classes.\n",
      "Found 160 images belonging to 10 classes.\n",
      "Epoch 1/10\n",
      "20/20 [==============================] - 65s 1s/step - loss: 1.9429 - accuracy: 0.3938 - val_loss: 1.5691 - val_accuracy: 0.4875 - lr: 0.0010\n",
      "Epoch 2/10\n",
      "20/20 [==============================] - 23s 1s/step - loss: 1.0280 - accuracy: 0.7219 - val_loss: 1.4929 - val_accuracy: 0.5063 - lr: 0.0010\n",
      "Epoch 3/10\n",
      "20/20 [==============================] - 22s 1s/step - loss: 0.6980 - accuracy: 0.8078 - val_loss: 1.1536 - val_accuracy: 0.6438 - lr: 0.0010\n",
      "Epoch 4/10\n",
      "20/20 [==============================] - 22s 1s/step - loss: 0.6549 - accuracy: 0.8156 - val_loss: 0.8147 - val_accuracy: 0.7437 - lr: 0.0010\n",
      "Epoch 5/10\n",
      "20/20 [==============================] - 22s 1s/step - loss: 0.6517 - accuracy: 0.8516 - val_loss: 0.7254 - val_accuracy: 0.8125 - lr: 0.0010\n",
      "Epoch 6/10\n",
      "20/20 [==============================] - 22s 1s/step - loss: 0.5169 - accuracy: 0.8609 - val_loss: 1.0303 - val_accuracy: 0.7563 - lr: 0.0010\n",
      "Epoch 7/10\n",
      "20/20 [==============================] - 22s 1s/step - loss: 0.4872 - accuracy: 0.8641 - val_loss: 1.6549 - val_accuracy: 0.7937 - lr: 0.0010\n",
      "Epoch 8/10\n",
      "20/20 [==============================] - ETA: 0s - loss: 0.4235 - accuracy: 0.8922\n",
      "Epoch 8: ReduceLROnPlateau reducing learning rate to 0.0005000000237487257.\n",
      "20/20 [==============================] - 22s 1s/step - loss: 0.4235 - accuracy: 0.8922 - val_loss: 0.7577 - val_accuracy: 0.8188 - lr: 0.0010\n",
      "Epoch 9/10\n",
      "20/20 [==============================] - 22s 1s/step - loss: 0.3976 - accuracy: 0.8969 - val_loss: 0.7118 - val_accuracy: 0.8438 - lr: 5.0000e-04\n",
      "Epoch 10/10\n",
      "20/20 [==============================] - 23s 1s/step - loss: 0.3270 - accuracy: 0.9047 - val_loss: 0.3025 - val_accuracy: 0.8813 - lr: 5.0000e-04\n",
      "Training for stage 70\n",
      "Found 560 images belonging to 10 classes.\n",
      "Found 140 images belonging to 10 classes.\n",
      "Epoch 1/10\n",
      "18/18 [==============================] - 69s 1s/step - loss: 2.0768 - accuracy: 0.3679 - val_loss: 1.6609 - val_accuracy: 0.4214 - lr: 0.0010\n",
      "Epoch 2/10\n",
      "18/18 [==============================] - 19s 1s/step - loss: 1.0334 - accuracy: 0.6946 - val_loss: 1.2554 - val_accuracy: 0.5714 - lr: 0.0010\n",
      "Epoch 3/10\n",
      "18/18 [==============================] - 19s 1s/step - loss: 0.7519 - accuracy: 0.7821 - val_loss: 0.7853 - val_accuracy: 0.7714 - lr: 0.0010\n",
      "Epoch 4/10\n",
      "18/18 [==============================] - 19s 1s/step - loss: 0.6949 - accuracy: 0.8071 - val_loss: 0.7241 - val_accuracy: 0.7500 - lr: 0.0010\n",
      "Epoch 5/10\n",
      "18/18 [==============================] - 19s 1s/step - loss: 0.6183 - accuracy: 0.8286 - val_loss: 1.5372 - val_accuracy: 0.6643 - lr: 0.0010\n",
      "Epoch 6/10\n",
      "18/18 [==============================] - 19s 1s/step - loss: 0.5767 - accuracy: 0.8339 - val_loss: 1.1487 - val_accuracy: 0.7643 - lr: 0.0010\n",
      "Epoch 7/10\n",
      "18/18 [==============================] - ETA: 0s - loss: 0.5854 - accuracy: 0.8518\n",
      "Epoch 7: ReduceLROnPlateau reducing learning rate to 0.0005000000237487257.\n",
      "18/18 [==============================] - 20s 1s/step - loss: 0.5854 - accuracy: 0.8518 - val_loss: 1.4234 - val_accuracy: 0.7000 - lr: 0.0010\n",
      "Epoch 8/10\n",
      "18/18 [==============================] - 19s 1s/step - loss: 0.4703 - accuracy: 0.8732 - val_loss: 0.5417 - val_accuracy: 0.8357 - lr: 5.0000e-04\n",
      "Epoch 9/10\n",
      "18/18 [==============================] - 19s 1s/step - loss: 0.4545 - accuracy: 0.8911 - val_loss: 0.6439 - val_accuracy: 0.7929 - lr: 5.0000e-04\n",
      "Epoch 10/10\n",
      "18/18 [==============================] - 19s 1s/step - loss: 0.4155 - accuracy: 0.8857 - val_loss: 0.6655 - val_accuracy: 0.8000 - lr: 5.0000e-04\n",
      "Training for stage 60\n",
      "Found 480 images belonging to 10 classes.\n",
      "Found 120 images belonging to 10 classes.\n",
      "Epoch 1/10\n",
      "15/15 [==============================] - 58s 1s/step - loss: 2.1065 - accuracy: 0.3500 - val_loss: 1.2354 - val_accuracy: 0.6333 - lr: 0.0010\n",
      "Epoch 2/10\n",
      "15/15 [==============================] - 17s 1s/step - loss: 1.0210 - accuracy: 0.6958 - val_loss: 0.8390 - val_accuracy: 0.7333 - lr: 0.0010\n",
      "Epoch 3/10\n",
      "15/15 [==============================] - 17s 1s/step - loss: 0.5700 - accuracy: 0.8229 - val_loss: 0.8068 - val_accuracy: 0.7167 - lr: 0.0010\n",
      "Epoch 4/10\n",
      "15/15 [==============================] - 17s 1s/step - loss: 0.5594 - accuracy: 0.8188 - val_loss: 0.4628 - val_accuracy: 0.8583 - lr: 0.0010\n",
      "Epoch 5/10\n",
      "15/15 [==============================] - 17s 1s/step - loss: 0.5120 - accuracy: 0.8562 - val_loss: 1.0173 - val_accuracy: 0.7333 - lr: 0.0010\n",
      "Epoch 6/10\n",
      "15/15 [==============================] - 17s 1s/step - loss: 0.4368 - accuracy: 0.8771 - val_loss: 0.6416 - val_accuracy: 0.8250 - lr: 0.0010\n",
      "Epoch 7/10\n",
      "15/15 [==============================] - ETA: 0s - loss: 0.4989 - accuracy: 0.8500\n",
      "Epoch 7: ReduceLROnPlateau reducing learning rate to 0.0005000000237487257.\n",
      "15/15 [==============================] - 17s 1s/step - loss: 0.4989 - accuracy: 0.8500 - val_loss: 0.5044 - val_accuracy: 0.8250 - lr: 0.0010\n",
      "Epoch 8/10\n",
      "15/15 [==============================] - 17s 1s/step - loss: 0.3920 - accuracy: 0.8938 - val_loss: 0.5109 - val_accuracy: 0.8583 - lr: 5.0000e-04\n",
      "Epoch 9/10\n",
      "15/15 [==============================] - 17s 1s/step - loss: 0.3208 - accuracy: 0.9000 - val_loss: 0.4298 - val_accuracy: 0.8583 - lr: 5.0000e-04\n",
      "Epoch 10/10\n",
      "15/15 [==============================] - 17s 1s/step - loss: 0.2400 - accuracy: 0.9208 - val_loss: 0.2565 - val_accuracy: 0.9333 - lr: 5.0000e-04\n",
      "Accuracy for each stage: {90: 0.8666666746139526, 80: 0.8812500238418579, 70: 0.800000011920929, 60: 0.9333333373069763}\n"
     ]
    }
   ],
   "source": [
    "# Loop over each dataset directory for training\n",
    "for stage, data_dir in data_dirs.items():\n",
    "    print(f\"Training for stage {stage}\")\n",
    "    \n",
    "    # Create a train generator with only `stage` images per class\n",
    "    train_generator = datagen.flow_from_directory(\n",
    "        data_dir, \n",
    "        target_size=(64,64), \n",
    "        batch_size=32, \n",
    "        subset='training'  # specify this as 'training'\n",
    "    )\n",
    "\n",
    "    # Create a validation generator\n",
    "    validation_generator = datagen.flow_from_directory(\n",
    "        data_dir, \n",
    "        target_size=(64,64), \n",
    "        batch_size=32, \n",
    "        subset='validation'  # specify this as 'validation'\n",
    "    )\n",
    "\n",
    "    # Create a new instance of the model for transfer learning\n",
    "    base_model = Model(weights='imagenet', include_top=False, input_shape=input_shape)\n",
    "    model = Sequential()\n",
    "    model.add(base_model)\n",
    "    model.add(Flatten())\n",
    "    model.add(Dropout(0.5)) # Add dropout layer to reduce overfitting\n",
    "\n",
    "    # The number of classes is automatically inferred from the subdirectories\n",
    "    model.add(Dense(train_generator.num_classes, activation='softmax'))\n",
    "\n",
    "    # Compile the model\n",
    "    model.compile(optimizer=Adam(), loss='categorical_crossentropy', metrics=['accuracy'])\n",
    "\n",
    "    # Train the model with validation data and callbacks\n",
    "    history = model.fit(\n",
    "        train_generator, \n",
    "        epochs=10, \n",
    "        validation_data=validation_generator,  # use validation_data instead of validation_split\n",
    "        callbacks=[lr_reduction]\n",
    "    )\n",
    "\n",
    "    # Store the accuracy of the model at this stage\n",
    "    accuracy[stage] = history.history['val_accuracy'][-1]\n",
    "\n",
    "print(\"Accuracy for each stage:\", accuracy)"
   ]
  },
  {
   "cell_type": "code",
   "execution_count": 40,
   "id": "77745655",
   "metadata": {},
   "outputs": [
    {
     "name": "stdout",
     "output_type": "stream",
     "text": [
      "Accuracy for each stage: {90: 0.8666666746139526, 80: 0.8812500238418579, 70: 0.800000011920929, 60: 0.9333333373069763}\n"
     ]
    },
    {
     "data": {
      "image/png": "[encoded data removed]",
      "text/plain": [
       "<Figure size 640x480 with 1 Axes>"
      ]
     },
     "metadata": {},
     "output_type": "display_data"
    }
   ],
   "source": [
    "import matplotlib.pyplot as plt\n",
    "\n",
    "# After training the model and storing the accuracy\n",
    "print(\"Accuracy for each stage:\", accuracy)\n",
    "\n",
    "# Create a list of stages and their corresponding accuracies\n",
    "stages = list(accuracy.keys())\n",
    "accuracies = list(accuracy.values())\n",
    "\n",
    "# Create a bar plot\n",
    "plt.bar(stages, accuracies)\n",
    "plt.xlabel('Stage')\n",
    "plt.ylabel('Accuracy')\n",
    "plt.title('Accuracy for each stage')\n",
    "plt.show()"
   ]
  },
  {
   "cell_type": "code",
   "execution_count": 41,
   "id": "b3fd3e27",
   "metadata": {},
   "outputs": [
    {
     "name": "stdout",
     "output_type": "stream",
     "text": [
      "1/1 [==============================] - 4s 4s/step\n",
      "The predicted class is: Highway\n"
     ]
    }
   ],
   "source": [
    "from keras.applications.resnet50 import preprocess_input\n",
    "from keras.preprocessing.image import load_img, img_to_array\n",
    "\n",
    "\n",
    "# Define the path to your image for testing\n",
    "# img_path = r\"D:\\MCA 3rd SEM\\Small Industrial Project\\DATASET_COMPARE\\90\\AnnualCrop\\AnnualCrop_1.jpg\"\n",
    "img_path = r'D:\\MCA 3rd SEM\\Small Industrial Project\\DATASET_COMPARE\\90\\HerbaceousVegetation\\HerbaceousVegetation_7.jpg'\n",
    "# img_path = r\"D:\\MCA 3rd SEM\\Small Industrial Project\\DATASET_COMPARE\\90\\Industrial\\Industrial_5.jpg\"\n",
    "# img_path = r\"D:\\MCA 3rd SEM\\Small Industrial Project\\DATASET_COMPARE\\90\\SeaLake\\SeaLake_90.jpg\"\n",
    "\n",
    "# Load and preprocess the image\n",
    "img = load_img(img_path, target_size=input_shape[:2])\n",
    "x = img_to_array(img)\n",
    "x = np.expand_dims(x, axis=0)\n",
    "x = preprocess_input(x)\n",
    "\n",
    "# Use the trained model to make a prediction\n",
    "preds = model.predict(x)\n",
    "\n",
    "# Get the class labels from the train generator\n",
    "classes = list(train_generator.class_indices.keys())\n",
    "\n",
    "# Decode the prediction\n",
    "predicted_class = np.argmax(preds[0])\n",
    "\n",
    "print(f'The predicted class is: {classes[predicted_class]}')"
   ]
  },
  {
   "cell_type": "code",
   "execution_count": 42,
   "id": "65199da2",
   "metadata": {},
   "outputs": [],
   "source": [
    "# Define the path to your directory for testing\n",
    "dir_path = r\"D:\\MCA 3rd SEM\\Small Industrial Project\\TEST\""
   ]
  },
  {
   "cell_type": "code",
   "execution_count": 43,
   "id": "9125943b",
   "metadata": {},
   "outputs": [
    {
     "name": "stdout",
     "output_type": "stream",
     "text": [
      "1/1 [==============================] - 0s 71ms/step\n",
      "The predicted class for AnnualCrop_1.jpg is: Highway\n",
      "1/1 [==============================] - 0s 66ms/step\n",
      "The predicted class for Forest_1.jpg is: PermanentCrop\n",
      "1/1 [==============================] - 0s 68ms/step\n",
      "The predicted class for HerbaceousVegetation_1.jpg is: Highway\n",
      "1/1 [==============================] - 0s 68ms/step\n",
      "The predicted class for Highway_1.jpg is: Residential\n",
      "1/1 [==============================] - 0s 86ms/step\n",
      "The predicted class for Industrial_1.jpg is: River\n",
      "1/1 [==============================] - 0s 70ms/step\n",
      "The predicted class for Pasture_1.jpg is: Industrial\n",
      "1/1 [==============================] - 0s 67ms/step\n",
      "The predicted class for PermanentCrop_1.jpg is: Industrial\n",
      "1/1 [==============================] - 0s 72ms/step\n",
      "The predicted class for Residential_1.jpg is: River\n",
      "1/1 [==============================] - 0s 72ms/step\n",
      "The predicted class for River_1.jpg is: Industrial\n",
      "1/1 [==============================] - 0s 66ms/step\n",
      "The predicted class for SeaLake_1.jpg is: Highway\n"
     ]
    }
   ],
   "source": [
    "# Get a list of all image files in the directory\n",
    "img_files = [f for f in os.listdir(dir_path) if f.endswith('.jpg')]\n",
    "\n",
    "# Loop over each image file\n",
    "for img_file in img_files:\n",
    "    # Load and preprocess the image\n",
    "    img = load_img(os.path.join(dir_path, img_file), target_size=input_shape[:2])\n",
    "    x = img_to_array(img)\n",
    "    x = np.expand_dims(x, axis=0)\n",
    "    x = preprocess_input(x)\n",
    "\n",
    "    # Use the trained model to make a prediction\n",
    "    preds = model.predict(x)\n",
    "\n",
    "    # Decode the prediction\n",
    "    predicted_class = np.argmax(preds[0])\n",
    "\n",
    "    print(f'The predicted class for {img_file} is: {classes[predicted_class]}')"
   ]
  },
  {
   "cell_type": "code",
   "execution_count": null,
   "id": "36ccc88c",
   "metadata": {},
   "outputs": [],
   "source": []
  }
 ],
 "metadata": {
  "kernelspec": {
   "display_name": "Python 3 (ipykernel)",
   "language": "python",
   "name": "python3"
  },
  "language_info": {
   "codemirror_mode": {
    "name": "ipython",
    "version": 3
   },
   "file_extension": ".py",
   "mimetype": "text/x-python",
   "name": "python",
   "nbconvert_exporter": "python",
   "pygments_lexer": "ipython3",
   "version": "3.9.13"
  }
 },
 "nbformat": 4,
 "nbformat_minor": 5
}
