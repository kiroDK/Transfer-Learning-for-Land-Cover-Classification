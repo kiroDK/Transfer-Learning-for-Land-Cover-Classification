{
 "cells": [
  {
   "cell_type": "code",
   "execution_count": 218,
   "id": "f8efca9f",
   "metadata": {},
   "outputs": [],
   "source": [
    "import os\n",
    "import numpy as np\n",
    "from keras.preprocessing.image import ImageDataGenerator\n",
    "from keras.applications.mobilenet import MobileNet, preprocess_input\n",
    "from keras.models import Sequential\n",
    "from keras.layers import Dense, Flatten, Dropout\n",
    "from keras.optimizers import Adam\n",
    "from keras.callbacks import ReduceLROnPlateau"
   ]
  },
  {
   "cell_type": "code",
   "execution_count": 219,
   "id": "5d3f5c92",
   "metadata": {},
   "outputs": [],
   "source": [
    "# Define the model for transfer learning\n",
    "Model = MobileNet"
   ]
  },
  {
   "cell_type": "code",
   "execution_count": 220,
   "id": "962d6da5",
   "metadata": {},
   "outputs": [],
   "source": [
    "# Define the directories containing the Eurosat datasets\n",
    "data_dirs = {\n",
    "    90: r\"D:\\MCA 3rd SEM\\Small Industrial Project\\DATASET_COMPARE\\90\",\n",
    "    80: r\"D:\\MCA 3rd SEM\\Small Industrial Project\\DATASET_COMPARE\\80\",\n",
    "    70: r\"D:\\MCA 3rd SEM\\Small Industrial Project\\DATASET_COMPARE\\70\",\n",
    "    60: r\"D:\\MCA 3rd SEM\\Small Industrial Project\\DATASET_COMPARE\\60\"\n",
    "}"
   ]
  },
  {
   "cell_type": "code",
   "execution_count": 221,
   "id": "06849f7a",
   "metadata": {},
   "outputs": [],
   "source": [
    "# Define the input shape for the model\n",
    "input_shape = (128, 128, 3)"
   ]
  },
  {
   "cell_type": "code",
   "execution_count": 222,
   "id": "3bf4fa9c",
   "metadata": {},
   "outputs": [],
   "source": [
    "# Use ReduceLROnPlateau callback\n",
    "lr_reduction = ReduceLROnPlateau(monitor='val_loss', \n",
    "                                 patience=3, \n",
    "                                 verbose=1, \n",
    "                                 factor=0.5, \n",
    "                                 min_lr=0.00001)"
   ]
  },
  {
   "cell_type": "code",
   "execution_count": 223,
   "id": "0c160af3",
   "metadata": {},
   "outputs": [],
   "source": [
    "# Create an image data generator with more augmentations and validation split\n",
    "datagen = ImageDataGenerator(\n",
    "    preprocessing_function=preprocess_input,  # use preprocess_input from inception_v3\n",
    "    rotation_range=20,\n",
    "    width_shift_range=0.2,\n",
    "    height_shift_range=0.2,\n",
    "    horizontal_flip=True,\n",
    "    validation_split=0.2  # add this line for validation split\n",
    ")"
   ]
  },
  {
   "cell_type": "code",
   "execution_count": 224,
   "id": "9997d7a5",
   "metadata": {},
   "outputs": [],
   "source": [
    "# Initialize a dictionary to store the accuracy of each model at each stage\n",
    "accuracy = {}"
   ]
  },
  {
   "cell_type": "code",
   "execution_count": 225,
   "id": "f35a6f6f",
   "metadata": {
    "scrolled": true
   },
   "outputs": [
    {
     "name": "stdout",
     "output_type": "stream",
     "text": [
      "Training for stage 90\n",
      "Found 720 images belonging to 10 classes.\n",
      "Found 180 images belonging to 10 classes.\n",
      "Epoch 1/10\n",
      "23/23 [==============================] - 60s 2s/step - loss: 3.0875 - accuracy: 0.5417 - val_loss: 12.2619 - val_accuracy: 0.2167 - lr: 0.0010\n",
      "Epoch 2/10\n",
      "23/23 [==============================] - 50s 2s/step - loss: 1.3865 - accuracy: 0.7819 - val_loss: 11.2087 - val_accuracy: 0.3722 - lr: 0.0010\n",
      "Epoch 3/10\n",
      "23/23 [==============================] - 47s 2s/step - loss: 1.7912 - accuracy: 0.7667 - val_loss: 12.9786 - val_accuracy: 0.4222 - lr: 0.0010\n",
      "Epoch 4/10\n",
      "23/23 [==============================] - 47s 2s/step - loss: 1.1039 - accuracy: 0.8361 - val_loss: 8.6662 - val_accuracy: 0.4667 - lr: 0.0010\n",
      "Epoch 5/10\n",
      "23/23 [==============================] - 48s 2s/step - loss: 0.8237 - accuracy: 0.8736 - val_loss: 8.9264 - val_accuracy: 0.4389 - lr: 0.0010\n",
      "Epoch 6/10\n",
      "23/23 [==============================] - 47s 2s/step - loss: 0.8593 - accuracy: 0.8542 - val_loss: 6.0206 - val_accuracy: 0.5833 - lr: 0.0010\n",
      "Epoch 7/10\n",
      "23/23 [==============================] - 48s 2s/step - loss: 0.7406 - accuracy: 0.8806 - val_loss: 7.7132 - val_accuracy: 0.5056 - lr: 0.0010\n",
      "Epoch 8/10\n",
      "23/23 [==============================] - 46s 2s/step - loss: 0.6944 - accuracy: 0.8667 - val_loss: 4.0540 - val_accuracy: 0.6556 - lr: 0.0010\n",
      "Epoch 9/10\n",
      "23/23 [==============================] - 48s 2s/step - loss: 0.5331 - accuracy: 0.8944 - val_loss: 3.9882 - val_accuracy: 0.6833 - lr: 0.0010\n",
      "Epoch 10/10\n",
      "23/23 [==============================] - 47s 2s/step - loss: 0.4689 - accuracy: 0.9125 - val_loss: 2.6126 - val_accuracy: 0.7389 - lr: 0.0010\n",
      "Training for stage 80\n",
      "Found 640 images belonging to 10 classes.\n",
      "Found 160 images belonging to 10 classes.\n",
      "Epoch 1/10\n",
      "20/20 [==============================] - 49s 2s/step - loss: 2.5880 - accuracy: 0.5813 - val_loss: 14.3685 - val_accuracy: 0.2062 - lr: 0.0010\n",
      "Epoch 2/10\n",
      "20/20 [==============================] - 41s 2s/step - loss: 2.0965 - accuracy: 0.7625 - val_loss: 16.9343 - val_accuracy: 0.2125 - lr: 0.0010\n",
      "Epoch 3/10\n",
      "20/20 [==============================] - 41s 2s/step - loss: 1.5041 - accuracy: 0.8156 - val_loss: 14.2598 - val_accuracy: 0.3375 - lr: 0.0010\n",
      "Epoch 4/10\n",
      "20/20 [==============================] - 42s 2s/step - loss: 1.3454 - accuracy: 0.8531 - val_loss: 9.9906 - val_accuracy: 0.4750 - lr: 0.0010\n",
      "Epoch 5/10\n",
      "20/20 [==============================] - 42s 2s/step - loss: 1.1650 - accuracy: 0.8594 - val_loss: 9.7466 - val_accuracy: 0.5125 - lr: 0.0010\n",
      "Epoch 6/10\n",
      "20/20 [==============================] - 41s 2s/step - loss: 0.9699 - accuracy: 0.8625 - val_loss: 4.6474 - val_accuracy: 0.6125 - lr: 0.0010\n",
      "Epoch 7/10\n",
      "20/20 [==============================] - 42s 2s/step - loss: 1.0174 - accuracy: 0.8672 - val_loss: 8.7380 - val_accuracy: 0.5750 - lr: 0.0010\n",
      "Epoch 8/10\n",
      "20/20 [==============================] - 42s 2s/step - loss: 0.7991 - accuracy: 0.8984 - val_loss: 4.2266 - val_accuracy: 0.7188 - lr: 0.0010\n",
      "Epoch 9/10\n",
      "20/20 [==============================] - 42s 2s/step - loss: 0.7465 - accuracy: 0.8859 - val_loss: 11.2284 - val_accuracy: 0.6438 - lr: 0.0010\n",
      "Epoch 10/10\n",
      "20/20 [==============================] - 42s 2s/step - loss: 0.8689 - accuracy: 0.8750 - val_loss: 8.2421 - val_accuracy: 0.6375 - lr: 0.0010\n",
      "Training for stage 70\n",
      "Found 560 images belonging to 10 classes.\n",
      "Found 140 images belonging to 10 classes.\n",
      "Epoch 1/10\n",
      "18/18 [==============================] - 42s 2s/step - loss: 3.3344 - accuracy: 0.4821 - val_loss: 14.1098 - val_accuracy: 0.3071 - lr: 0.0010\n",
      "Epoch 2/10\n",
      "18/18 [==============================] - 35s 2s/step - loss: 1.3157 - accuracy: 0.7964 - val_loss: 10.4512 - val_accuracy: 0.2714 - lr: 0.0010\n",
      "Epoch 3/10\n",
      "18/18 [==============================] - 36s 2s/step - loss: 1.6660 - accuracy: 0.7786 - val_loss: 15.5798 - val_accuracy: 0.3571 - lr: 0.0010\n",
      "Epoch 4/10\n",
      "18/18 [==============================] - 36s 2s/step - loss: 1.3323 - accuracy: 0.8357 - val_loss: 13.3364 - val_accuracy: 0.3714 - lr: 0.0010\n",
      "Epoch 5/10\n",
      "18/18 [==============================] - ETA: 0s - loss: 1.0352 - accuracy: 0.8179\n",
      "Epoch 5: ReduceLROnPlateau reducing learning rate to 0.0005000000237487257.\n",
      "18/18 [==============================] - 37s 2s/step - loss: 1.0352 - accuracy: 0.8179 - val_loss: 12.0972 - val_accuracy: 0.4643 - lr: 0.0010\n",
      "Epoch 6/10\n",
      "18/18 [==============================] - 37s 2s/step - loss: 0.7835 - accuracy: 0.8732 - val_loss: 8.4612 - val_accuracy: 0.5500 - lr: 5.0000e-04\n",
      "Epoch 7/10\n",
      "18/18 [==============================] - 37s 2s/step - loss: 0.5616 - accuracy: 0.9000 - val_loss: 2.9871 - val_accuracy: 0.6571 - lr: 5.0000e-04\n",
      "Epoch 8/10\n",
      "18/18 [==============================] - 37s 2s/step - loss: 0.5102 - accuracy: 0.9196 - val_loss: 3.4648 - val_accuracy: 0.7714 - lr: 5.0000e-04\n",
      "Epoch 9/10\n",
      "18/18 [==============================] - 36s 2s/step - loss: 0.3327 - accuracy: 0.9321 - val_loss: 1.7630 - val_accuracy: 0.8000 - lr: 5.0000e-04\n",
      "Epoch 10/10\n",
      "18/18 [==============================] - 36s 2s/step - loss: 0.3688 - accuracy: 0.9232 - val_loss: 1.1323 - val_accuracy: 0.8643 - lr: 5.0000e-04\n",
      "Training for stage 60\n",
      "Found 480 images belonging to 10 classes.\n",
      "Found 120 images belonging to 10 classes.\n",
      "Epoch 1/10\n",
      "15/15 [==============================] - 37s 2s/step - loss: 3.4611 - accuracy: 0.4708 - val_loss: 11.3811 - val_accuracy: 0.2083 - lr: 0.0010\n",
      "Epoch 2/10\n",
      "15/15 [==============================] - 30s 2s/step - loss: 1.6767 - accuracy: 0.7292 - val_loss: 14.9022 - val_accuracy: 0.2333 - lr: 0.0010\n",
      "Epoch 3/10\n",
      "15/15 [==============================] - 30s 2s/step - loss: 1.4956 - accuracy: 0.7854 - val_loss: 14.6373 - val_accuracy: 0.4000 - lr: 0.0010\n",
      "Epoch 4/10\n",
      "15/15 [==============================] - 30s 2s/step - loss: 1.1568 - accuracy: 0.8271 - val_loss: 10.5001 - val_accuracy: 0.4083 - lr: 0.0010\n",
      "Epoch 5/10\n",
      "15/15 [==============================] - 30s 2s/step - loss: 1.3752 - accuracy: 0.8313 - val_loss: 8.6522 - val_accuracy: 0.4833 - lr: 0.0010\n",
      "Epoch 6/10\n",
      "15/15 [==============================] - 30s 2s/step - loss: 1.2088 - accuracy: 0.8396 - val_loss: 10.0333 - val_accuracy: 0.5667 - lr: 0.0010\n",
      "Epoch 7/10\n",
      "15/15 [==============================] - 30s 2s/step - loss: 0.9101 - accuracy: 0.8687 - val_loss: 5.7334 - val_accuracy: 0.6000 - lr: 0.0010\n",
      "Epoch 8/10\n",
      "15/15 [==============================] - 30s 2s/step - loss: 0.9434 - accuracy: 0.8646 - val_loss: 12.1869 - val_accuracy: 0.5333 - lr: 0.0010\n",
      "Epoch 9/10\n",
      "15/15 [==============================] - 30s 2s/step - loss: 0.7510 - accuracy: 0.8917 - val_loss: 8.2755 - val_accuracy: 0.4833 - lr: 0.0010\n",
      "Epoch 10/10\n",
      "15/15 [==============================] - ETA: 0s - loss: 1.1453 - accuracy: 0.8875\n",
      "Epoch 10: ReduceLROnPlateau reducing learning rate to 0.0005000000237487257.\n",
      "15/15 [==============================] - 30s 2s/step - loss: 1.1453 - accuracy: 0.8875 - val_loss: 12.2309 - val_accuracy: 0.5583 - lr: 0.0010\n",
      "Accuracy for each stage: {90: 0.7388888597488403, 80: 0.637499988079071, 70: 0.8642857074737549, 60: 0.5583333373069763}\n"
     ]
    }
   ],
   "source": [
    "# Loop over each dataset directory for training\n",
    "for stage, data_dir in data_dirs.items():\n",
    "    print(f\"Training for stage {stage}\")\n",
    "    \n",
    "    # Create a train generator with only `stage` images per class\n",
    "    train_generator = datagen.flow_from_directory(\n",
    "        data_dir, \n",
    "        target_size=(128,128), \n",
    "        batch_size=32, \n",
    "        subset='training'  # specify this as 'training'\n",
    "    )\n",
    "\n",
    "    # Create a validation generator\n",
    "    validation_generator = datagen.flow_from_directory(\n",
    "        data_dir, \n",
    "        target_size=(128,128), \n",
    "        batch_size=32, \n",
    "        subset='validation'  # specify this as 'validation'\n",
    "    )\n",
    "\n",
    "    # Create a new instance of the model for transfer learning\n",
    "    base_model = Model(weights='imagenet', include_top=False, input_shape=input_shape)\n",
    "    model = Sequential()\n",
    "    model.add(base_model)\n",
    "    model.add(Flatten())\n",
    "    model.add(Dropout(0.5)) # Add dropout layer to reduce overfitting\n",
    "\n",
    "    # The number of classes is automatically inferred from the subdirectories\n",
    "    model.add(Dense(train_generator.num_classes, activation='softmax'))\n",
    "\n",
    "    # Compile the model\n",
    "    model.compile(optimizer=Adam(), loss='categorical_crossentropy', metrics=['accuracy'])\n",
    "\n",
    "    # Train the model with validation data and callbacks\n",
    "    history = model.fit(\n",
    "        train_generator, \n",
    "        epochs=10, \n",
    "        validation_data=validation_generator,  # use validation_data instead of validation_split\n",
    "        callbacks=[lr_reduction]\n",
    "    )\n",
    "\n",
    "    # Store the accuracy of the model at this stage\n",
    "    accuracy[stage] = history.history['val_accuracy'][-1]\n",
    "\n",
    "print(\"Accuracy for each stage:\", accuracy)"
   ]
  },
  {
   "cell_type": "code",
   "execution_count": 226,
   "id": "255087a3",
   "metadata": {},
   "outputs": [
    {
     "name": "stdout",
     "output_type": "stream",
     "text": [
      "Accuracy for each stage: {90: 0.7388888597488403, 80: 0.637499988079071, 70: 0.8642857074737549, 60: 0.5583333373069763}\n"
     ]
    },
    {
     "data": {
      "image/png": "[encoded data removed]",
      "text/plain": [
       "<Figure size 640x480 with 1 Axes>"
      ]
     },
     "metadata": {},
     "output_type": "display_data"
    }
   ],
   "source": [
    "import matplotlib.pyplot as plt\n",
    "\n",
    "# After training the model and storing the accuracy\n",
    "print(\"Accuracy for each stage:\", accuracy)\n",
    "\n",
    "# Create a list of stages and their corresponding accuracies\n",
    "stages = list(accuracy.keys())\n",
    "accuracies = list(accuracy.values())\n",
    "\n",
    "# Create a bar plot\n",
    "plt.bar(stages, accuracies)\n",
    "plt.xlabel('Stage')\n",
    "plt.ylabel('Accuracy')\n",
    "plt.title('Accuracy for each stage')\n",
    "plt.show()"
   ]
  },
  {
   "cell_type": "code",
   "execution_count": 233,
   "id": "ffcbc86e",
   "metadata": {},
   "outputs": [
    {
     "name": "stdout",
     "output_type": "stream",
     "text": [
      "1/1 [==============================] - 0s 193ms/step\n",
      "The predicted class is: River\n"
     ]
    }
   ],
   "source": [
    "from keras.applications.resnet50 import preprocess_input\n",
    "from keras.preprocessing.image import load_img, img_to_array\n",
    "\n",
    "\n",
    "# Define the path to your image for testing\n",
    "# img_path = r\"D:\\MCA 3rd SEM\\Small Industrial Project\\DATASET_COMPARE\\90\\AnnualCrop\\AnnualCrop_1.jpg\"\n",
    "# img_path = r'D:\\MCA 3rd SEM\\Small Industrial Project\\DATASET_COMPARE\\90\\HerbaceousVegetation\\HerbaceousVegetation_7.jpg'\n",
    "img_path = r\"D:\\MCA 3rd SEM\\Small Industrial Project\\DATASET_COMPARE\\90\\River\\River_90.jpg\"\n",
    "# img_path = r\"D:\\MCA 3rd SEM\\Small Industrial Project\\DATASET_COMPARE\\90\\SeaLake\\SeaLake_1.jpg\"\n",
    "\n",
    "# Load and preprocess the image\n",
    "img = load_img(img_path, target_size=input_shape[:2])\n",
    "x = img_to_array(img)\n",
    "x = np.expand_dims(x, axis=0)\n",
    "x = preprocess_input(x)\n",
    "\n",
    "# Use the trained model to make a prediction\n",
    "preds = model.predict(x)\n",
    "\n",
    "# Get the class labels from the train generator\n",
    "classes = list(train_generator.class_indices.keys())\n",
    "\n",
    "# Decode the prediction\n",
    "predicted_class = np.argmax(preds[0])\n",
    "\n",
    "print(f'The predicted class is: {classes[predicted_class]}')"
   ]
  },
  {
   "cell_type": "code",
   "execution_count": 228,
   "id": "fc43f2cb",
   "metadata": {},
   "outputs": [],
   "source": [
    "# Define the path to your directory for testing\n",
    "dir_path = r\"D:\\MCA 3rd SEM\\Small Industrial Project\\TEST\""
   ]
  },
  {
   "cell_type": "code",
   "execution_count": 229,
   "id": "58ea8cdf",
   "metadata": {},
   "outputs": [
    {
     "name": "stdout",
     "output_type": "stream",
     "text": [
      "1/1 [==============================] - 0s 96ms/step\n",
      "The predicted class for AnnualCrop_1.jpg is: River\n",
      "1/1 [==============================] - 0s 97ms/step\n",
      "The predicted class for Forest_1.jpg is: SeaLake\n",
      "1/1 [==============================] - 0s 98ms/step\n",
      "The predicted class for HerbaceousVegetation_1.jpg is: River\n",
      "1/1 [==============================] - 0s 96ms/step\n",
      "The predicted class for Highway_1.jpg is: Highway\n",
      "1/1 [==============================] - 0s 94ms/step\n",
      "The predicted class for Industrial_1.jpg is: Industrial\n",
      "1/1 [==============================] - 0s 93ms/step\n",
      "The predicted class for Pasture_1.jpg is: River\n",
      "1/1 [==============================] - 0s 97ms/step\n",
      "The predicted class for PermanentCrop_1.jpg is: Industrial\n",
      "1/1 [==============================] - 0s 94ms/step\n",
      "The predicted class for Residential_1.jpg is: River\n",
      "1/1 [==============================] - 0s 94ms/step\n",
      "The predicted class for River_1.jpg is: River\n",
      "1/1 [==============================] - 0s 92ms/step\n",
      "The predicted class for SeaLake_1.jpg is: SeaLake\n"
     ]
    }
   ],
   "source": [
    "# Get a list of all image files in the directory\n",
    "img_files = [f for f in os.listdir(dir_path) if f.endswith('.jpg')]\n",
    "\n",
    "# Loop over each image file\n",
    "for img_file in img_files:\n",
    "    # Load and preprocess the image\n",
    "    img = load_img(os.path.join(dir_path, img_file), target_size=input_shape[:2])\n",
    "    x = img_to_array(img)\n",
    "    x = np.expand_dims(x, axis=0)\n",
    "    x = preprocess_input(x)\n",
    "\n",
    "    # Use the trained model to make a prediction\n",
    "    preds = model.predict(x)\n",
    "\n",
    "    # Decode the prediction\n",
    "    predicted_class = np.argmax(preds[0])\n",
    "\n",
    "    print(f'The predicted class for {img_file} is: {classes[predicted_class]}')"
   ]
  },
  {
   "cell_type": "code",
   "execution_count": null,
   "id": "758bc656",
   "metadata": {},
   "outputs": [],
   "source": []
  }
 ],
 "metadata": {
  "kernelspec": {
   "display_name": "Python 3 (ipykernel)",
   "language": "python",
   "name": "python3"
  },
  "language_info": {
   "codemirror_mode": {
    "name": "ipython",
    "version": 3
   },
   "file_extension": ".py",
   "mimetype": "text/x-python",
   "name": "python",
   "nbconvert_exporter": "python",
   "pygments_lexer": "ipython3",
   "version": "3.9.13"
  }
 },
 "nbformat": 4,
 "nbformat_minor": 5
}
