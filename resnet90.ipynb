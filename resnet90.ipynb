{
 "cells": [
  {
   "cell_type": "code",
   "execution_count": 60,
   "id": "147919e4",
   "metadata": {},
   "outputs": [],
   "source": [
    "import os\n",
    "import numpy as np\n",
    "from keras.preprocessing.image import ImageDataGenerator\n",
    "from keras.applications.resnet50 import ResNet50, preprocess_input\n",
    "from keras.models import Sequential\n",
    "from keras.layers import Dense, Flatten, Dropout\n",
    "from keras.optimizers import Adam\n",
    "from keras.callbacks import ReduceLROnPlateau"
   ]
  },
  {
   "cell_type": "code",
   "execution_count": 61,
   "id": "794ebb0a",
   "metadata": {},
   "outputs": [],
   "source": [
    "# Define the directory containing the Eurosat dataset\n",
    "data_dir = r\"D:\\MCA 3rd SEM\\Small Industrial Project\\DATASET_COMPARE\\90\""
   ]
  },
  {
   "cell_type": "code",
   "execution_count": 62,
   "id": "f421864f",
   "metadata": {},
   "outputs": [],
   "source": [
    "# Define the input shape for the model\n",
    "input_shape = (64, 64, 3)"
   ]
  },
  {
   "cell_type": "code",
   "execution_count": 63,
   "id": "5e78cea6",
   "metadata": {},
   "outputs": [],
   "source": [
    "# Use ReduceLROnPlateau callback\n",
    "lr_reduction = ReduceLROnPlateau(monitor='val_loss', \n",
    "                                 patience=3, \n",
    "                                 verbose=1, \n",
    "                                 factor=0.5, \n",
    "                                 min_lr=0.00001)"
   ]
  },
  {
   "cell_type": "code",
   "execution_count": 64,
   "id": "a2adc0ac",
   "metadata": {},
   "outputs": [],
   "source": [
    "# Create an image data generator with more augmentations and validation split\n",
    "datagen = ImageDataGenerator(\n",
    "    preprocessing_function=preprocess_input,  # use preprocess_input from resnet50\n",
    "    rotation_range=20,\n",
    "    width_shift_range=0.2,\n",
    "    height_shift_range=0.2,\n",
    "    horizontal_flip=True,\n",
    "    validation_split=0.2  # add this line for validation split\n",
    ")"
   ]
  },
  {
   "cell_type": "code",
   "execution_count": 65,
   "id": "3ff32ac2",
   "metadata": {},
   "outputs": [
    {
     "name": "stdout",
     "output_type": "stream",
     "text": [
      "Found 720 images belonging to 10 classes.\n"
     ]
    }
   ],
   "source": [
    "# Create a train generator with only `stage` images per class\n",
    "train_generator = datagen.flow_from_directory(\n",
    "    data_dir, \n",
    "    target_size=(64,64), \n",
    "    batch_size=32, \n",
    "    subset='training'  # specify this as 'training'\n",
    ")"
   ]
  },
  {
   "cell_type": "code",
   "execution_count": 66,
   "id": "a40523d1",
   "metadata": {},
   "outputs": [
    {
     "name": "stdout",
     "output_type": "stream",
     "text": [
      "Found 180 images belonging to 10 classes.\n"
     ]
    }
   ],
   "source": [
    "# Create a validation generator\n",
    "validation_generator = datagen.flow_from_directory(\n",
    "    data_dir, \n",
    "    target_size=(64,64), \n",
    "    batch_size=32, \n",
    "    subset='validation'  # specify this as 'validation'\n",
    ")"
   ]
  },
  {
   "cell_type": "code",
   "execution_count": 67,
   "id": "eca6cc01",
   "metadata": {},
   "outputs": [],
   "source": [
    "# Create a new instance of the model for transfer learning\n",
    "base_model = ResNet50(weights='imagenet', include_top=False, input_shape=input_shape)\n",
    "model = Sequential()\n",
    "model.add(base_model)\n",
    "model.add(Flatten())\n",
    "model.add(Dropout(0.5)) # Add dropout layer to reduce overfitting"
   ]
  },
  {
   "cell_type": "code",
   "execution_count": 68,
   "id": "8ab16c71",
   "metadata": {},
   "outputs": [],
   "source": [
    "# The number of classes is automatically inferred from the subdirectories\n",
    "model.add(Dense(train_generator.num_classes, activation='softmax'))"
   ]
  },
  {
   "cell_type": "code",
   "execution_count": 69,
   "id": "089e6a6c",
   "metadata": {},
   "outputs": [],
   "source": [
    "# Compile the model\n",
    "model.compile(optimizer=Adam(), loss='categorical_crossentropy', metrics=['accuracy'])"
   ]
  },
  {
   "cell_type": "code",
   "execution_count": 70,
   "id": "3bc73315",
   "metadata": {},
   "outputs": [
    {
     "name": "stdout",
     "output_type": "stream",
     "text": [
      "Epoch 1/10\n",
      "23/23 [==============================] - 41s 1s/step - loss: 2.2777 - accuracy: 0.5194 - val_loss: 19167.4160 - val_accuracy: 0.1000 - lr: 0.0010\n",
      "Epoch 2/10\n",
      "23/23 [==============================] - 28s 1s/step - loss: 2.2261 - accuracy: 0.6347 - val_loss: 10329106.0000 - val_accuracy: 0.1000 - lr: 0.0010\n",
      "Epoch 3/10\n",
      "23/23 [==============================] - 29s 1s/step - loss: 1.9741 - accuracy: 0.7069 - val_loss: 78427.0859 - val_accuracy: 0.1611 - lr: 0.0010\n",
      "Epoch 4/10\n",
      "23/23 [==============================] - ETA: 0s - loss: 1.8250 - accuracy: 0.7194\n",
      "Epoch 4: ReduceLROnPlateau reducing learning rate to 0.0005000000237487257.\n",
      "23/23 [==============================] - 29s 1s/step - loss: 1.8250 - accuracy: 0.7194 - val_loss: 67156.8906 - val_accuracy: 0.1000 - lr: 0.0010\n",
      "Epoch 5/10\n",
      "23/23 [==============================] - 29s 1s/step - loss: 2.3840 - accuracy: 0.7222 - val_loss: 34.4176 - val_accuracy: 0.1167 - lr: 5.0000e-04\n",
      "Epoch 6/10\n",
      "23/23 [==============================] - 29s 1s/step - loss: 1.7657 - accuracy: 0.7069 - val_loss: 2850.1895 - val_accuracy: 0.1000 - lr: 5.0000e-04\n",
      "Epoch 7/10\n",
      "23/23 [==============================] - 29s 1s/step - loss: 1.3977 - accuracy: 0.7597 - val_loss: 531.9375 - val_accuracy: 0.3556 - lr: 5.0000e-04\n",
      "Epoch 8/10\n",
      "23/23 [==============================] - ETA: 0s - loss: 1.2309 - accuracy: 0.7569\n",
      "Epoch 8: ReduceLROnPlateau reducing learning rate to 0.0002500000118743628.\n",
      "23/23 [==============================] - 30s 1s/step - loss: 1.2309 - accuracy: 0.7569 - val_loss: 240.8958 - val_accuracy: 0.5278 - lr: 5.0000e-04\n",
      "Epoch 9/10\n",
      "23/23 [==============================] - 30s 1s/step - loss: 0.6132 - accuracy: 0.8111 - val_loss: 99.6159 - val_accuracy: 0.6722 - lr: 2.5000e-04\n",
      "Epoch 10/10\n",
      "23/23 [==============================] - 34s 1s/step - loss: 0.8951 - accuracy: 0.8403 - val_loss: 11.3191 - val_accuracy: 0.6667 - lr: 2.5000e-04\n"
     ]
    }
   ],
   "source": [
    "# Train the model with validation data and callbacks\n",
    "history = model.fit(\n",
    "    train_generator, \n",
    "    epochs=10, \n",
    "    validation_data=validation_generator,  # use validation_data instead of validation_split\n",
    "    callbacks=[lr_reduction]\n",
    ")"
   ]
  },
  {
   "cell_type": "code",
   "execution_count": 71,
   "id": "e03219cc",
   "metadata": {},
   "outputs": [],
   "source": [
    "# Define the path to your directory for testing\n",
    "dir_path = r\"D:\\MCA 3rd SEM\\Small Industrial Project\\TEST\""
   ]
  },
  {
   "cell_type": "code",
   "execution_count": 72,
   "id": "ef033a29",
   "metadata": {},
   "outputs": [
    {
     "name": "stdout",
     "output_type": "stream",
     "text": [
      "1/1 [==============================] - 1s 812ms/step\n",
      "The predicted class for AnnualCrop_1.jpg is: HerbaceousVegetation\n",
      "1/1 [==============================] - 0s 41ms/step\n",
      "The predicted class for Forest_1.jpg is: Forest\n",
      "1/1 [==============================] - 0s 36ms/step\n",
      "The predicted class for HerbaceousVegetation_1.jpg is: HerbaceousVegetation\n",
      "1/1 [==============================] - 0s 37ms/step\n",
      "The predicted class for Highway_1.jpg is: Industrial\n",
      "1/1 [==============================] - 0s 39ms/step\n",
      "The predicted class for Industrial_1.jpg is: Industrial\n",
      "1/1 [==============================] - 0s 36ms/step\n",
      "The predicted class for Pasture_1.jpg is: Pasture\n",
      "1/1 [==============================] - 0s 40ms/step\n",
      "The predicted class for PermanentCrop_1.jpg is: PermanentCrop\n",
      "1/1 [==============================] - 0s 38ms/step\n",
      "The predicted class for Residential_1.jpg is: Residential\n",
      "1/1 [==============================] - 0s 36ms/step\n",
      "The predicted class for River_1.jpg is: River\n",
      "1/1 [==============================] - 0s 39ms/step\n",
      "The predicted class for SeaLake_1.jpg is: Forest\n"
     ]
    }
   ],
   "source": [
    "# Get a list of all image files in the directory\n",
    "img_files = [f for f in os.listdir(dir_path) if f.endswith('.jpg')]\n",
    "\n",
    "# Loop over each image file\n",
    "for img_file in img_files:\n",
    "    # Load and preprocess the image\n",
    "    img = load_img(os.path.join(dir_path, img_file), target_size=input_shape[:2])\n",
    "    x = img_to_array(img)\n",
    "    x = np.expand_dims(x, axis=0)\n",
    "    x = preprocess_input(x)\n",
    "\n",
    "    # Use the trained model to make a prediction\n",
    "    preds = model.predict(x)\n",
    "\n",
    "    # Decode the prediction\n",
    "    predicted_class = np.argmax(preds[0])\n",
    "\n",
    "    print(f'The predicted class for {img_file} is: {classes[predicted_class]}')"
   ]
  },
  {
   "cell_type": "code",
   "execution_count": 78,
   "id": "152dc0b9",
   "metadata": {},
   "outputs": [
    {
     "name": "stdout",
     "output_type": "stream",
     "text": [
      "1/1 [==============================] - 0s 411ms/step\n",
      "The predicted class is: HerbaceousVegetation\n"
     ]
    }
   ],
   "source": [
    "from keras.applications.resnet50 import preprocess_input\n",
    "\n",
    "# Define the path to your image for testing\n",
    "# img_path = r\"D:\\MCA 3rd SEM\\Small Industrial Project\\DATASET_COMPARE\\90\\AnnualCrop\\AnnualCrop_4.jpg\"\n",
    "img_path = r'D:\\MCA 3rd SEM\\Small Industrial Project\\DATASET_COMPARE\\90\\HerbaceousVegetation\\HerbaceousVegetation_1.jpg'\n",
    "# img_path = r\"D:\\MCA 3rd SEM\\Small Industrial Project\\DATASET_COMPARE\\90\\Industrial\\Industrial_90.jpg\"\n",
    "# img_path = r\"D:\\MCA 3rd SEM\\Small Industrial Project\\DATASET_COMPARE\\90\\SeaLake\\SeaLake_.jpg\"\n",
    "\n",
    "# Load and preprocess the image\n",
    "img = load_img(img_path, target_size=input_shape[:2])\n",
    "x = img_to_array(img)\n",
    "x = np.expand_dims(x, axis=0)\n",
    "x = preprocess_input(x)\n",
    "\n",
    "# Use the trained model to make a prediction\n",
    "preds = model.predict(x)\n",
    "\n",
    "# Get the class labels from the train generator\n",
    "classes = list(train_generator.class_indices.keys())\n",
    "\n",
    "# Decode the prediction\n",
    "predicted_class = np.argmax(preds[0])\n",
    "\n",
    "print(f'The predicted class is: {classes[predicted_class]}')"
   ]
  },
  {
   "cell_type": "code",
   "execution_count": null,
   "id": "631ce90c",
   "metadata": {},
   "outputs": [],
   "source": []
  }
 ],
 "metadata": {
  "kernelspec": {
   "display_name": "Python 3 (ipykernel)",
   "language": "python",
   "name": "python3"
  },
  "language_info": {
   "codemirror_mode": {
    "name": "ipython",
    "version": 3
   },
   "file_extension": ".py",
   "mimetype": "text/x-python",
   "name": "python",
   "nbconvert_exporter": "python",
   "pygments_lexer": "ipython3",
   "version": "3.9.13"
  }
 },
 "nbformat": 4,
 "nbformat_minor": 5
}
